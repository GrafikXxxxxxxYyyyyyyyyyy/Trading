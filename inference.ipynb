{
 "cells": [
  {
   "cell_type": "code",
   "execution_count": null,
   "id": "02bd2dad",
   "metadata": {},
   "outputs": [],
   "source": [
    "from utils.dataset import TradingDataset\n",
    "from utils.normalizer import TradingNormalizer\n",
    "\n",
    "normalizer = TradingNormalizer(method='log_returns')\n",
    "\n",
    "dataset = TradingDataset(\n",
    "    'data/', \n",
    "    mode='validation',\n",
    "    history_len=256,\n",
    "    target_len=32,\n",
    "    normalizer=normalizer,\n",
    ")"
   ]
  },
  {
   "cell_type": "code",
   "execution_count": null,
   "id": "ba9d1dcf",
   "metadata": {},
   "outputs": [],
   "source": [
    "from models.model_wrapper import TradingModel\n",
    "\n",
    "# model = TradingModel.from_pretrained('pretrained-models/TradingFFN') # DONE!\n",
    "# model = TradingModel.from_pretrained('pretrained-models/TradingLSTM') # DONE!\n",
    "# model = TradingModel.from_pretrained('pretrained-models/TradingTCN') # DONE!\n",
    "# model = TradingModel.from_pretrained('pretrained-models/TradingTFT') # Типа дан!\n",
    "# model = TradingModel.from_pretrained('pretrained-models/TradingCNN') # Типа дан!\n",
    "\n",
    "model = TradingModel.from_config('src/cnn/cnn.json', device='mps')\n",
    "\n",
    "# model = TradingModel.from_pretrained('pretrained-models/TradingTransformer')\n"
   ]
  },
  {
   "cell_type": "code",
   "execution_count": null,
   "id": "9e4b97f7",
   "metadata": {},
   "outputs": [],
   "source": [
    "import torch\n",
    "from utils.visualization import plot_model_prediction, plot_model_prediction_denormalized\n",
    "\n",
    "sample = dataset[torch.randint(0, len(dataset), (1,)).item()]\n",
    "history = sample['history'].to(model.device)\n",
    "model_pred = model(history)\n",
    "\n",
    "plot_model_prediction(sample['history'], sample['target'], model_pred)\n",
    "plot_model_prediction_denormalized(sample['history'], sample['target'], sample['stats'], model_pred)"
   ]
  },
  {
   "cell_type": "code",
   "execution_count": null,
   "id": "734c1f82",
   "metadata": {},
   "outputs": [],
   "source": []
  },
  {
   "cell_type": "code",
   "execution_count": null,
   "id": "61d1702c",
   "metadata": {},
   "outputs": [],
   "source": []
  },
  {
   "cell_type": "code",
   "execution_count": null,
   "id": "a4989fe3",
   "metadata": {},
   "outputs": [],
   "source": []
  },
  {
   "cell_type": "code",
   "execution_count": null,
   "id": "aafa62c0",
   "metadata": {},
   "outputs": [],
   "source": []
  },
  {
   "cell_type": "code",
   "execution_count": null,
   "id": "3343ceb7",
   "metadata": {},
   "outputs": [],
   "source": []
  },
  {
   "cell_type": "code",
   "execution_count": null,
   "id": "069d15da",
   "metadata": {},
   "outputs": [],
   "source": []
  },
  {
   "cell_type": "code",
   "execution_count": null,
   "id": "551145b0",
   "metadata": {},
   "outputs": [],
   "source": []
  },
  {
   "cell_type": "code",
   "execution_count": null,
   "id": "ed2cad0b",
   "metadata": {},
   "outputs": [],
   "source": []
  },
  {
   "cell_type": "code",
   "execution_count": null,
   "id": "70926f5d",
   "metadata": {},
   "outputs": [],
   "source": []
  },
  {
   "cell_type": "code",
   "execution_count": null,
   "id": "115eec4b",
   "metadata": {},
   "outputs": [],
   "source": []
  }
 ],
 "metadata": {
  "kernelspec": {
   "display_name": ".venv",
   "language": "python",
   "name": "python3"
  },
  "language_info": {
   "codemirror_mode": {
    "name": "ipython",
    "version": 3
   },
   "file_extension": ".py",
   "mimetype": "text/x-python",
   "name": "python",
   "nbconvert_exporter": "python",
   "pygments_lexer": "ipython3",
   "version": "3.11.2"
  }
 },
 "nbformat": 4,
 "nbformat_minor": 5
}
