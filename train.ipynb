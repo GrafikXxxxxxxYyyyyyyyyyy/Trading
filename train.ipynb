{
 "cells": [
  {
   "cell_type": "code",
   "execution_count": null,
   "id": "c1e08ba7",
   "metadata": {},
   "outputs": [],
   "source": [
    "from utils.dataset import TradingDataset\n",
    "from utils.normalizer import TradingNormalizer\n",
    "\n",
    "normalizer = TradingNormalizer(method='log_returns')\n",
    "\n",
    "dataset = TradingDataset(\n",
    "    'data/', \n",
    "    mode='train',\n",
    "    history_len=256,\n",
    "    target_len=32,\n",
    "    normalizer=normalizer,\n",
    ")"
   ]
  },
  {
   "cell_type": "code",
   "execution_count": null,
   "id": "daa6e161",
   "metadata": {},
   "outputs": [],
   "source": [
    "from models.model_wrapper import TradingModel\n",
    "\n",
    "\n",
    "# wrapper = TradingModel.from_config('src/cnn/cnn.json', device='mps') \n",
    "# wrapper = TradingModel.from_config('src/ffn/ffn.json', device='mps') \n",
    "wrapper = TradingModel.from_config('src/lstm/lstm.json', device='mps') \n",
    "# wrapper = TradingModel.from_config('src/tcn/tcn.json', device='mps') \n",
    "# wrapper = TradingModel.from_config('src/tft/tft.json', device='mps') \n",
    "# wrapper = TradingModel.from_config('src/transformer/transformer.json', device='mps') \n",
    "\n",
    "\n",
    "\n",
    "# wrapper = TradingModel.from_pretrained('pretrained-models/TradingCNN', device='mps') \n",
    "\n",
    "print(wrapper.device)\n",
    "print(wrapper.model)\n",
    "print(wrapper.model_config)"
   ]
  },
  {
   "cell_type": "code",
   "execution_count": null,
   "id": "ed4a3c85",
   "metadata": {},
   "outputs": [],
   "source": [
    "from pipelines.train_pipeline import TradingTrainingArgs, TradingTrainer\n",
    "\n",
    "args = TradingTrainingArgs(\n",
    "    train_batch_size=16,\n",
    "    output_dir='pretrained-models',\n",
    "    learning_rate=1e-4,\n",
    "    num_train_epochs=1,\n",
    "    save_steps=1000,\n",
    "    tensorboard_log_dir='runs/trading_experiment',\n",
    ")\n",
    "\n",
    "trainer = TradingTrainer(\n",
    "    train_dataset=dataset,\n",
    "    model=wrapper,\n",
    "    args=args,\n",
    ")"
   ]
  },
  {
   "cell_type": "code",
   "execution_count": null,
   "id": "1e74ac56",
   "metadata": {},
   "outputs": [],
   "source": [
    "trainer.train()"
   ]
  },
  {
   "cell_type": "code",
   "execution_count": null,
   "id": "156417be",
   "metadata": {},
   "outputs": [],
   "source": []
  }
 ],
 "metadata": {
  "kernelspec": {
   "display_name": ".venv",
   "language": "python",
   "name": "python3"
  },
  "language_info": {
   "codemirror_mode": {
    "name": "ipython",
    "version": 3
   },
   "file_extension": ".py",
   "mimetype": "text/x-python",
   "name": "python",
   "nbconvert_exporter": "python",
   "pygments_lexer": "ipython3",
   "version": "3.11.2"
  }
 },
 "nbformat": 4,
 "nbformat_minor": 5
}
