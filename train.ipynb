{
 "cells": [
  {
   "cell_type": "code",
   "execution_count": 1,
   "id": "c1e08ba7",
   "metadata": {},
   "outputs": [
    {
     "name": "stdout",
     "output_type": "stream",
     "text": [
      "Found 506620 samples for train mode\n"
     ]
    }
   ],
   "source": [
    "from utils.dataset import TradingDataset\n",
    "\n",
    "dataset = TradingDataset('data/', mode='train')"
   ]
  },
  {
   "cell_type": "code",
   "execution_count": null,
   "id": "daa6e161",
   "metadata": {},
   "outputs": [
    {
     "name": "stdout",
     "output_type": "stream",
     "text": [
      "mps\n",
      "TradingFFN(\n",
      "  (pos_encoding): PositionalEncoding(\n",
      "    (dropout): Dropout(p=0.2, inplace=False)\n",
      "  )\n",
      "  (attention_layers): ModuleList(\n",
      "    (0-2): 3 x Attention(\n",
      "      (multihead_attn): MultiheadAttention(\n",
      "        (out_proj): NonDynamicallyQuantizableLinear(in_features=256, out_features=256, bias=True)\n",
      "      )\n",
      "      (norm): LayerNorm((256,), eps=1e-05, elementwise_affine=True)\n",
      "      (dropout): Dropout(p=0.2, inplace=False)\n",
      "    )\n",
      "  )\n",
      "  (attn_layer_norm): LayerNorm((256,), eps=1e-05, elementwise_affine=True)\n",
      "  (feed_forward): Sequential(\n",
      "    (0): Linear(in_features=65536, out_features=512, bias=True)\n",
      "    (1): GELU(approximate='none')\n",
      "    (2): LayerNorm((512,), eps=1e-05, elementwise_affine=True)\n",
      "    (3): Dropout(p=0.2, inplace=False)\n",
      "    (4): Linear(in_features=512, out_features=1024, bias=True)\n",
      "    (5): GELU(approximate='none')\n",
      "    (6): LayerNorm((1024,), eps=1e-05, elementwise_affine=True)\n",
      "    (7): Dropout(p=0.2, inplace=False)\n",
      "    (8): Linear(in_features=1024, out_features=512, bias=True)\n",
      "    (9): GELU(approximate='none')\n",
      "    (10): LayerNorm((512,), eps=1e-05, elementwise_affine=True)\n",
      "    (11): Dropout(p=0.2, inplace=False)\n",
      "    (12): Linear(in_features=512, out_features=256, bias=True)\n",
      "    (13): GELU(approximate='none')\n",
      "    (14): LayerNorm((256,), eps=1e-05, elementwise_affine=True)\n",
      "    (15): Dropout(p=0.2, inplace=False)\n",
      "  )\n",
      "  (output_layer): Linear(in_features=256, out_features=32, bias=True)\n",
      ")\n",
      "{'model_type': 'TradingFFN', 'feature_size': 256, 'hidden_sizes': [512, 1024, 512, 256], 'output_size': 32, 'seq_len': 256, 'num_attention_layers': 3, 'num_heads': 8, 'dropout': 0.2, 'use_layer_norm': True}\n"
     ]
    }
   ],
   "source": [
    "from models.model_wrapper import TradingModel\n",
    "\n",
    "\n",
    "# wrapper = TradingModel.from_config('src/ffn/ffn.json', device='mps') # DONE!\n",
    "\n",
    "wrapper = TradingModel.from_config('src/lstm/lstm.json', device='mps') \n",
    "# wrapper = TradingModel.from_config('src/lstm_ffn/lstm_ffn.json', device='mps') \n",
    "# wrapper = TradingModel.from_config('src/tcn/tcn.json', device='mps') \n",
    "\n",
    "\n",
    "print(wrapper.device)\n",
    "print(wrapper.model)\n",
    "print(wrapper.model_config)"
   ]
  },
  {
   "cell_type": "code",
   "execution_count": 3,
   "id": "ed4a3c85",
   "metadata": {},
   "outputs": [],
   "source": [
    "from pipelines.train_pipeline import TradingTrainingArgs, TradingTrainer\n",
    "\n",
    "args = TradingTrainingArgs(\n",
    "    train_batch_size=16,\n",
    "    output_dir='pretrained-models',\n",
    "    learning_rate=1e-4,\n",
    "    num_train_epochs=1,\n",
    "    save_steps=1000,\n",
    "    tensorboard_log_dir='runs/trading_experiment',\n",
    ")\n",
    "\n",
    "trainer = TradingTrainer(\n",
    "    train_dataset=dataset,\n",
    "    model=wrapper,\n",
    "    args=args,\n",
    ")"
   ]
  },
  {
   "cell_type": "code",
   "execution_count": null,
   "id": "1e74ac56",
   "metadata": {},
   "outputs": [
    {
     "name": "stdout",
     "output_type": "stream",
     "text": [
      "Инициализирован TensorBoard логгер. Логи будут сохранены в runs/trading_experiment/run_1756912797_TradingFFN\n"
     ]
    },
    {
     "name": "stderr",
     "output_type": "stream",
     "text": [
      "batch loss:   3%|▎         | 1001/31664 [04:17<8:12:14,  1.04it/s, loss=0.299526]"
     ]
    },
    {
     "name": "stdout",
     "output_type": "stream",
     "text": [
      "Модель TradingFFN успешно сохранена в pretrained-models/TradingFFN\n"
     ]
    },
    {
     "name": "stderr",
     "output_type": "stream",
     "text": [
      "batch loss:   6%|▋         | 2001/31664 [08:47<9:52:21,  1.20s/it, loss=0.239403]"
     ]
    },
    {
     "name": "stdout",
     "output_type": "stream",
     "text": [
      "Модель TradingFFN успешно сохранена в pretrained-models/TradingFFN\n"
     ]
    },
    {
     "name": "stderr",
     "output_type": "stream",
     "text": [
      "batch loss:   9%|▉         | 3001/31664 [13:21<14:32:56,  1.83s/it, loss=0.227530]"
     ]
    },
    {
     "name": "stdout",
     "output_type": "stream",
     "text": [
      "Модель TradingFFN успешно сохранена в pretrained-models/TradingFFN\n"
     ]
    },
    {
     "name": "stderr",
     "output_type": "stream",
     "text": [
      "batch loss:  11%|█         | 3451/31664 [15:16<2:06:18,  3.72it/s, loss=0.294740] "
     ]
    }
   ],
   "source": [
    "trainer.train()"
   ]
  },
  {
   "cell_type": "code",
   "execution_count": null,
   "id": "f4a4167f",
   "metadata": {},
   "outputs": [],
   "source": []
  }
 ],
 "metadata": {
  "kernelspec": {
   "display_name": ".venv",
   "language": "python",
   "name": "python3"
  },
  "language_info": {
   "codemirror_mode": {
    "name": "ipython",
    "version": 3
   },
   "file_extension": ".py",
   "mimetype": "text/x-python",
   "name": "python",
   "nbconvert_exporter": "python",
   "pygments_lexer": "ipython3",
   "version": "3.11.2"
  }
 },
 "nbformat": 4,
 "nbformat_minor": 5
}
