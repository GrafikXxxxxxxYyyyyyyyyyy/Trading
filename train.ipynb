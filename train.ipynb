{
 "cells": [
  {
   "cell_type": "code",
   "execution_count": 1,
   "id": "c1e08ba7",
   "metadata": {},
   "outputs": [
    {
     "name": "stdout",
     "output_type": "stream",
     "text": [
      "Found 506130 samples for train mode\n"
     ]
    }
   ],
   "source": [
    "from utils.dataset import TradingDataset\n",
    "\n",
    "dataset = TradingDataset('data/', mode='train')"
   ]
  },
  {
   "cell_type": "code",
   "execution_count": 2,
   "id": "daa6e161",
   "metadata": {},
   "outputs": [
    {
     "name": "stdout",
     "output_type": "stream",
     "text": [
      "mps\n",
      "TradingLSTM(\n",
      "  (attention): BahdanauAttention(\n",
      "    (W_enc): Linear(in_features=256, out_features=128, bias=False)\n",
      "    (W_dec): Linear(in_features=256, out_features=128, bias=False)\n",
      "    (V): Linear(in_features=128, out_features=1, bias=False)\n",
      "  )\n",
      "  (encoder): LSTMEncoder(\n",
      "    (lstm): LSTM(128, 256, num_layers=6, batch_first=True, dropout=0.2, bidirectional=True)\n",
      "    (output_projection): Linear(in_features=512, out_features=256, bias=True)\n",
      "  )\n",
      "  (decoder): LSTMDecoder(\n",
      "    (attention): BahdanauAttention(\n",
      "      (W_enc): Linear(in_features=256, out_features=128, bias=False)\n",
      "      (W_dec): Linear(in_features=256, out_features=128, bias=False)\n",
      "      (V): Linear(in_features=128, out_features=1, bias=False)\n",
      "    )\n",
      "    (lstm): LSTM(257, 256, num_layers=6, batch_first=True, dropout=0.2)\n",
      "    (fc): Sequential(\n",
      "      (0): Linear(in_features=512, out_features=256, bias=True)\n",
      "      (1): ReLU()\n",
      "      (2): Dropout(p=0.2, inplace=False)\n",
      "      (3): Linear(in_features=256, out_features=1, bias=True)\n",
      "    )\n",
      "  )\n",
      "  (layer_norm): LayerNorm((128,), eps=1e-05, elementwise_affine=True)\n",
      ")\n",
      "{'model_type': 'TradingLSTM', 'feature_size': 128, 'encoder_hidden_size': 256, 'encoder_num_layers': 6, 'decoder_hidden_size': 256, 'decoder_num_layers': 6, 'attention_dim': 128, 'target_len': 32, 'dropout': 0.2, 'teacher_forcing_ratio': 0.1, 'bidirectional_encoder': True, 'use_layer_norm': True}\n"
     ]
    }
   ],
   "source": [
    "from models.model_wrapper import TradingModel\n",
    "\n",
    "wrapper = TradingModel.from_config('src/lstm/lstm.json', device='mps') \n",
    "# wrapper = TradingModel.from_config('src/tcn/tcn.json', device='mps')\n",
    "# wrapper = TradingModel.from_config('src/cnn/cnn.json', device='mps')\n",
    "# wrapper = TradingModel.from_config('src/transformer/transformer.json', device='mps')\n",
    "# wrapper = TradingModel.from_config('src/lstm_ffn/lstm_ffn.json', device='mps')\n",
    "# wrapper = TradingModel.from_config('src/bert/bert.json', device='mps')\n",
    "\n",
    "# wrapper = TradingModel.from_pretrained('pretrained-models/TradingLSTM')\n",
    "# wrapper = TradingModel.from_pretrained('pretrained-models/TradingTCN')\n",
    "# wrapper = TradingModel.from_pretrained('pretrained-models/TradingTransformer')\n",
    "print(wrapper.device)\n",
    "print(wrapper.model)\n",
    "print(wrapper.model_config)"
   ]
  },
  {
   "cell_type": "code",
   "execution_count": 3,
   "id": "ed4a3c85",
   "metadata": {},
   "outputs": [],
   "source": [
    "from pipelines.train_pipeline import TradingTrainingArgs, TradingTrainer\n",
    "\n",
    "args = TradingTrainingArgs(\n",
    "    train_batch_size=16,\n",
    "    output_dir='pretrained-models',\n",
    "    learning_rate=1e-4,\n",
    "    num_train_epochs=1,\n",
    "    save_steps=1000,\n",
    "    tensorboard_log_dir='runs/trading_experiment',\n",
    ")\n",
    "\n",
    "trainer = TradingTrainer(\n",
    "    train_dataset=dataset,\n",
    "    model=wrapper,\n",
    "    args=args,\n",
    ")"
   ]
  },
  {
   "cell_type": "code",
   "execution_count": 4,
   "id": "1e74ac56",
   "metadata": {},
   "outputs": [
    {
     "name": "stdout",
     "output_type": "stream",
     "text": [
      "Инициализирован TensorBoard логгер. Логи будут сохранены в runs/trading_experiment/run_1756759568_TradingLSTM\n"
     ]
    },
    {
     "name": "stderr",
     "output_type": "stream",
     "text": [
      "batch loss:   3%|▎         | 1000/31634 [10:51<5:38:03,  1.51it/s, loss=0.839832]"
     ]
    },
    {
     "name": "stdout",
     "output_type": "stream",
     "text": [
      "Модель TradingLSTM успешно сохранена в pretrained-models/TradingLSTM\n"
     ]
    },
    {
     "name": "stderr",
     "output_type": "stream",
     "text": [
      "batch loss:   4%|▎         | 1111/31634 [12:05<5:20:10,  1.59it/s, loss=0.597936]"
     ]
    },
    {
     "ename": "KeyboardInterrupt",
     "evalue": "",
     "output_type": "error",
     "traceback": [
      "\u001b[31m---------------------------------------------------------------------------\u001b[39m",
      "\u001b[31mKeyboardInterrupt\u001b[39m                         Traceback (most recent call last)",
      "\u001b[36mCell\u001b[39m\u001b[36m \u001b[39m\u001b[32mIn[4]\u001b[39m\u001b[32m, line 1\u001b[39m\n\u001b[32m----> \u001b[39m\u001b[32m1\u001b[39m \u001b[43mtrainer\u001b[49m\u001b[43m.\u001b[49m\u001b[43mtrain\u001b[49m\u001b[43m(\u001b[49m\u001b[43m)\u001b[49m\n",
      "\u001b[36mFile \u001b[39m\u001b[32m~/dev/Trading/pipelines/train_pipeline.py:128\u001b[39m, in \u001b[36mTradingTrainer.train\u001b[39m\u001b[34m(self)\u001b[39m\n\u001b[32m    125\u001b[39m global_step += \u001b[32m1\u001b[39m\n\u001b[32m    127\u001b[39m progress_bar.update(\u001b[32m1\u001b[39m)\n\u001b[32m--> \u001b[39m\u001b[32m128\u001b[39m progress_bar.set_postfix({\u001b[33m'\u001b[39m\u001b[33mloss\u001b[39m\u001b[33m'\u001b[39m: \u001b[33mf\u001b[39m\u001b[33m'\u001b[39m\u001b[38;5;132;01m{\u001b[39;00m\u001b[43mloss\u001b[49m\u001b[43m.\u001b[49m\u001b[43mdetach\u001b[49m\u001b[43m(\u001b[49m\u001b[43m)\u001b[49m\u001b[43m.\u001b[49m\u001b[43mitem\u001b[49m\u001b[43m(\u001b[49m\u001b[43m)\u001b[49m\u001b[38;5;132;01m:\u001b[39;00m\u001b[33m.6f\u001b[39m\u001b[38;5;132;01m}\u001b[39;00m\u001b[33m'\u001b[39m})\n\u001b[32m    130\u001b[39m \u001b[38;5;66;03m# --- Добавлено для TensorBoard: Логирование метрики ---\u001b[39;00m\n\u001b[32m    131\u001b[39m \u001b[38;5;28;01mif\u001b[39;00m \u001b[38;5;28mself\u001b[39m.writer \u001b[38;5;129;01mis\u001b[39;00m \u001b[38;5;129;01mnot\u001b[39;00m \u001b[38;5;28;01mNone\u001b[39;00m:\n",
      "\u001b[31mKeyboardInterrupt\u001b[39m: "
     ]
    }
   ],
   "source": [
    "trainer.train()"
   ]
  },
  {
   "cell_type": "code",
   "execution_count": null,
   "id": "f4a4167f",
   "metadata": {},
   "outputs": [],
   "source": []
  }
 ],
 "metadata": {
  "kernelspec": {
   "display_name": ".venv",
   "language": "python",
   "name": "python3"
  },
  "language_info": {
   "codemirror_mode": {
    "name": "ipython",
    "version": 3
   },
   "file_extension": ".py",
   "mimetype": "text/x-python",
   "name": "python",
   "nbconvert_exporter": "python",
   "pygments_lexer": "ipython3",
   "version": "3.11.2"
  }
 },
 "nbformat": 4,
 "nbformat_minor": 5
}
