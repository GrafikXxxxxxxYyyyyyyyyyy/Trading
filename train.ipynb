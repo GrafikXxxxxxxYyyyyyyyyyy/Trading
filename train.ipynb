{
 "cells": [
  {
   "cell_type": "code",
   "execution_count": null,
   "id": "c1e08ba7",
   "metadata": {},
   "outputs": [],
   "source": [
    "from utils.dataset import TradingDataset\n",
    "\n",
    "dataset = TradingDataset('data/', mode='train')"
   ]
  },
  {
   "cell_type": "code",
   "execution_count": null,
   "id": "daa6e161",
   "metadata": {},
   "outputs": [],
   "source": [
    "from models.model_wrapper import TradingModel\n",
    "\n",
    "\n",
    "# wrapper = TradingModel.from_config('src/ffn/ffn.json', device='mps') # DONE!\n",
    "# wrapper = TradingModel.from_config('src/lstm/lstm.json', device='mps') # DONE!\n",
    "wrapper = TradingModel.from_config('src/tcn/tcn.json', device='mps') # DONE!\n",
    "\n",
    "# wrapper = TradingModel.from_config('src/tft/tft.json', device='mps') # Типа тоже дан!\n",
    "# wrapper = TradingModel.from_config('src/cnn/cnn.json', device='mps') \n",
    "\n",
    "\n",
    "\n",
    "# wrapper = TradingModel.from_config('src/transformer/transformer.json', device='mps') \n",
    "# wrapper = TradingModel.from_config('', device='mps') \n",
    "\n",
    "print(wrapper.device)\n",
    "print(wrapper.model)\n",
    "print(wrapper.model_config)"
   ]
  },
  {
   "cell_type": "code",
   "execution_count": null,
   "id": "ed4a3c85",
   "metadata": {},
   "outputs": [],
   "source": [
    "from pipelines.train_pipeline import TradingTrainingArgs, TradingTrainer\n",
    "\n",
    "args = TradingTrainingArgs(\n",
    "    train_batch_size=16,\n",
    "    output_dir='pretrained-models',\n",
    "    learning_rate=1e-4,\n",
    "    num_train_epochs=1,\n",
    "    save_steps=1000,\n",
    "    tensorboard_log_dir='runs/trading_experiment',\n",
    ")\n",
    "\n",
    "trainer = TradingTrainer(\n",
    "    train_dataset=dataset,\n",
    "    model=wrapper,\n",
    "    args=args,\n",
    ")"
   ]
  },
  {
   "cell_type": "code",
   "execution_count": null,
   "id": "1e74ac56",
   "metadata": {},
   "outputs": [],
   "source": [
    "trainer.train()"
   ]
  },
  {
   "cell_type": "markdown",
   "id": "67980a13",
   "metadata": {},
   "source": [
    "### Продолженное обучение"
   ]
  },
  {
   "cell_type": "code",
   "execution_count": null,
   "id": "f4a4167f",
   "metadata": {},
   "outputs": [],
   "source": [
    "wrapper = TradingModel.from_config('src/ffn/ffn.json', device='mps') # DONE!"
   ]
  },
  {
   "cell_type": "code",
   "execution_count": null,
   "id": "4c0cc810",
   "metadata": {},
   "outputs": [],
   "source": [
    "args = TradingTrainingArgs(\n",
    "    train_batch_size=16,\n",
    "    output_dir='pretrained-models',\n",
    "    learning_rate=1e-4,\n",
    "    num_train_epochs=1,\n",
    "    save_steps=1000,\n",
    "    tensorboard_log_dir='runs/trading_experiment',\n",
    ")\n",
    "\n",
    "trainer = TradingTrainer(\n",
    "    train_dataset=dataset,\n",
    "    model=wrapper,\n",
    "    args=args,\n",
    ")"
   ]
  },
  {
   "cell_type": "code",
   "execution_count": null,
   "id": "21e808fc",
   "metadata": {},
   "outputs": [],
   "source": [
    "trainer.train()"
   ]
  },
  {
   "cell_type": "code",
   "execution_count": null,
   "id": "91543c6d",
   "metadata": {},
   "outputs": [],
   "source": [
    "wrapper = TradingModel.from_config('src/lstm/lstm.json', device='mps') "
   ]
  },
  {
   "cell_type": "code",
   "execution_count": null,
   "id": "318df742",
   "metadata": {},
   "outputs": [],
   "source": [
    "args = TradingTrainingArgs(\n",
    "    train_batch_size=16,\n",
    "    output_dir='pretrained-models',\n",
    "    learning_rate=1e-4,\n",
    "    num_train_epochs=1,\n",
    "    save_steps=1000,\n",
    "    tensorboard_log_dir='runs/trading_experiment',\n",
    ")\n",
    "\n",
    "trainer = TradingTrainer(\n",
    "    train_dataset=dataset,\n",
    "    model=wrapper,\n",
    "    args=args,\n",
    ")"
   ]
  },
  {
   "cell_type": "code",
   "execution_count": null,
   "id": "60275e3e",
   "metadata": {},
   "outputs": [],
   "source": [
    "trainer.train()"
   ]
  },
  {
   "cell_type": "code",
   "execution_count": null,
   "id": "156417be",
   "metadata": {},
   "outputs": [],
   "source": []
  }
 ],
 "metadata": {
  "kernelspec": {
   "display_name": ".venv",
   "language": "python",
   "name": "python3"
  },
  "language_info": {
   "codemirror_mode": {
    "name": "ipython",
    "version": 3
   },
   "file_extension": ".py",
   "mimetype": "text/x-python",
   "name": "python",
   "nbconvert_exporter": "python",
   "pygments_lexer": "ipython3",
   "version": "3.11.2"
  }
 },
 "nbformat": 4,
 "nbformat_minor": 5
}
