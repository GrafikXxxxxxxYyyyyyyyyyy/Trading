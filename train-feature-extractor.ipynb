{
 "cells": [
  {
   "cell_type": "code",
   "execution_count": null,
   "id": "d75294d4",
   "metadata": {},
   "outputs": [],
   "source": [
    "import torch\n",
    "from models.feature_extractor import TradingFeatureExtractor\n",
    "\n",
    "\n",
    "# --- Пример использования ---\n",
    "if __name__ == \"__main__\":\n",
    "    # Параметры\n",
    "    B, T, F_in = 4, 256, 5\n",
    "    F_out = 256\n",
    "    \n",
    "    # Создание модели\n",
    "    model = TradingFeatureExtractor(input_size=F_in, feature_size=F_out)\n",
    "    print(model)\n",
    "    \n",
    "    # Примерные входные данные\n",
    "    x = torch.randn(B, T, F_in)\n",
    "    \n",
    "    # Прогон через автоэнкодер\n",
    "    reconstructed_x = model(x)\n",
    "    \n",
    "    print(f\"Входные данные: {x.shape}\") # [4, 256, 5]\n",
    "    print(f\"Реконструированные данные: {reconstructed_x.shape}\") # [4, 256, 5]\n",
    "    \n",
    "    # Только извлечение признаков\n",
    "    features_only = model.extract_features(x)\n",
    "    print(f\"Извлеченные признаки (только): {features_only.shape}\") # [4, 256, 128]\n"
   ]
  },
  {
   "cell_type": "markdown",
   "id": "1026cd51",
   "metadata": {},
   "source": [
    "### Обучение модели"
   ]
  },
  {
   "cell_type": "code",
   "execution_count": 1,
   "id": "92f418f9",
   "metadata": {},
   "outputs": [
    {
     "name": "stdout",
     "output_type": "stream",
     "text": [
      "Используемое устройство: mps\n",
      "Загрузка обучающего датасета...\n",
      "Found 507130 samples for train mode\n",
      "Инициализация модели TradingFeatureExtractor...\n",
      "Модель загружена на mps\n",
      "TensorBoard логгер инициализирован. Логи будут в runs/feature_extractor/run_1756998384\n",
      "Начало обучения...\n"
     ]
    },
    {
     "name": "stderr",
     "output_type": "stream",
     "text": [
      "Epoch 1/100:   0%|          | 2/15848 [00:00<17:06, 15.43it/s]"
     ]
    },
    {
     "name": "stdout",
     "output_type": "stream",
     "text": [
      "\n",
      "Ошибка на шаге 1.1: Dimension out of range (expected to be in range of [-2, 1], but got 2)\n",
      "\n",
      "Ошибка на шаге 1.2: Dimension out of range (expected to be in range of [-2, 1], but got 2)\n",
      "\n",
      "Ошибка на шаге 1.3: Dimension out of range (expected to be in range of [-2, 1], but got 2)\n"
     ]
    },
    {
     "name": "stderr",
     "output_type": "stream",
     "text": [
      "Epoch 1/100:   0%|          | 5/15848 [00:00<13:25, 19.67it/s]"
     ]
    },
    {
     "name": "stdout",
     "output_type": "stream",
     "text": [
      "\n",
      "Ошибка на шаге 1.4: Dimension out of range (expected to be in range of [-2, 1], but got 2)\n",
      "\n",
      "Ошибка на шаге 1.5: Dimension out of range (expected to be in range of [-2, 1], but got 2)\n"
     ]
    },
    {
     "name": "stderr",
     "output_type": "stream",
     "text": [
      "Epoch 1/100:   0%|          | 8/15848 [00:00<11:44, 22.49it/s]"
     ]
    },
    {
     "name": "stdout",
     "output_type": "stream",
     "text": [
      "\n",
      "Ошибка на шаге 1.6: Dimension out of range (expected to be in range of [-2, 1], but got 2)\n",
      "\n",
      "Ошибка на шаге 1.7: Dimension out of range (expected to be in range of [-2, 1], but got 2)\n",
      "\n",
      "Ошибка на шаге 1.8: Dimension out of range (expected to be in range of [-2, 1], but got 2)\n",
      "\n",
      "Ошибка на шаге 1.9: Dimension out of range (expected to be in range of [-2, 1], but got 2)\n"
     ]
    },
    {
     "name": "stderr",
     "output_type": "stream",
     "text": [
      "Epoch 1/100:   0%|          | 11/15848 [00:00<11:10, 23.62it/s]"
     ]
    },
    {
     "name": "stdout",
     "output_type": "stream",
     "text": [
      "\n",
      "Ошибка на шаге 1.10: Dimension out of range (expected to be in range of [-2, 1], but got 2)\n",
      "\n",
      "Ошибка на шаге 1.11: Dimension out of range (expected to be in range of [-2, 1], but got 2)\n"
     ]
    },
    {
     "name": "stderr",
     "output_type": "stream",
     "text": [
      "Epoch 1/100:   0%|          | 14/15848 [00:00<10:33, 25.01it/s]"
     ]
    },
    {
     "name": "stdout",
     "output_type": "stream",
     "text": [
      "\n",
      "Ошибка на шаге 1.12: Dimension out of range (expected to be in range of [-2, 1], but got 2)\n",
      "\n",
      "Ошибка на шаге 1.13: Dimension out of range (expected to be in range of [-2, 1], but got 2)\n",
      "\n",
      "Ошибка на шаге 1.14: Dimension out of range (expected to be in range of [-2, 1], but got 2)\n",
      "\n",
      "Ошибка на шаге 1.15: Dimension out of range (expected to be in range of [-2, 1], but got 2)\n"
     ]
    },
    {
     "name": "stderr",
     "output_type": "stream",
     "text": [
      "Epoch 1/100:   0%|          | 17/15848 [00:00<10:15, 25.70it/s]"
     ]
    },
    {
     "name": "stdout",
     "output_type": "stream",
     "text": [
      "\n",
      "Ошибка на шаге 1.16: Dimension out of range (expected to be in range of [-2, 1], but got 2)\n",
      "\n",
      "Ошибка на шаге 1.17: Dimension out of range (expected to be in range of [-2, 1], but got 2)\n"
     ]
    },
    {
     "name": "stderr",
     "output_type": "stream",
     "text": [
      "Epoch 1/100:   0%|          | 20/15848 [00:00<09:52, 26.72it/s]"
     ]
    },
    {
     "name": "stdout",
     "output_type": "stream",
     "text": [
      "\n",
      "Ошибка на шаге 1.18: Dimension out of range (expected to be in range of [-2, 1], but got 2)\n",
      "\n",
      "Ошибка на шаге 1.19: Dimension out of range (expected to be in range of [-2, 1], but got 2)\n",
      "\n",
      "Ошибка на шаге 1.20: Dimension out of range (expected to be in range of [-2, 1], but got 2)\n",
      "\n",
      "Ошибка на шаге 1.21: Dimension out of range (expected to be in range of [-2, 1], but got 2)\n"
     ]
    },
    {
     "name": "stderr",
     "output_type": "stream",
     "text": [
      "Epoch 1/100:   0%|          | 23/15848 [00:00<09:34, 27.53it/s]"
     ]
    },
    {
     "name": "stdout",
     "output_type": "stream",
     "text": [
      "\n",
      "Ошибка на шаге 1.22: Dimension out of range (expected to be in range of [-2, 1], but got 2)\n",
      "\n",
      "Ошибка на шаге 1.23: Dimension out of range (expected to be in range of [-2, 1], but got 2)\n"
     ]
    },
    {
     "name": "stderr",
     "output_type": "stream",
     "text": [
      "Epoch 1/100:   0%|          | 27/15848 [00:01<09:07, 28.87it/s]"
     ]
    },
    {
     "name": "stdout",
     "output_type": "stream",
     "text": [
      "\n",
      "Ошибка на шаге 1.24: Dimension out of range (expected to be in range of [-2, 1], but got 2)\n",
      "\n",
      "Ошибка на шаге 1.25: Dimension out of range (expected to be in range of [-2, 1], but got 2)\n",
      "\n",
      "Ошибка на шаге 1.26: Dimension out of range (expected to be in range of [-2, 1], but got 2)\n",
      "\n",
      "Ошибка на шаге 1.27: Dimension out of range (expected to be in range of [-2, 1], but got 2)\n",
      "\n",
      "Ошибка на шаге 1.28: Dimension out of range (expected to be in range of [-2, 1], but got 2)\n",
      "\n",
      "Ошибка на шаге 1.29: Dimension out of range (expected to be in range of [-2, 1], but got 2)\n"
     ]
    },
    {
     "name": "stderr",
     "output_type": "stream",
     "text": [
      "Epoch 1/100:   0%|          | 33/15848 [00:01<09:52, 26.69it/s]"
     ]
    },
    {
     "name": "stdout",
     "output_type": "stream",
     "text": [
      "\n",
      "Ошибка на шаге 1.30: Dimension out of range (expected to be in range of [-2, 1], but got 2)\n",
      "\n",
      "Ошибка на шаге 1.31: Dimension out of range (expected to be in range of [-2, 1], but got 2)\n",
      "\n",
      "Ошибка на шаге 1.32: Dimension out of range (expected to be in range of [-2, 1], but got 2)\n",
      "\n",
      "Ошибка на шаге 1.33: Dimension out of range (expected to be in range of [-2, 1], but got 2)\n",
      "\n",
      "Ошибка на шаге 1.34: Dimension out of range (expected to be in range of [-2, 1], but got 2)\n",
      "\n",
      "Ошибка на шаге 1.35: Dimension out of range (expected to be in range of [-2, 1], but got 2)\n"
     ]
    },
    {
     "name": "stderr",
     "output_type": "stream",
     "text": [
      "Epoch 1/100:   0%|          | 37/15848 [00:01<09:26, 27.91it/s]"
     ]
    },
    {
     "name": "stdout",
     "output_type": "stream",
     "text": [
      "\n",
      "Ошибка на шаге 1.36: Dimension out of range (expected to be in range of [-2, 1], but got 2)\n",
      "\n",
      "Ошибка на шаге 1.37: Dimension out of range (expected to be in range of [-2, 1], but got 2)\n",
      "\n",
      "Ошибка на шаге 1.38: Dimension out of range (expected to be in range of [-2, 1], but got 2)\n",
      "\n",
      "Ошибка на шаге 1.39: Dimension out of range (expected to be in range of [-2, 1], but got 2)\n",
      "\n",
      "Ошибка на шаге 1.40: Dimension out of range (expected to be in range of [-2, 1], but got 2)\n"
     ]
    },
    {
     "name": "stderr",
     "output_type": "stream",
     "text": [
      "Epoch 1/100:   0%|          | 41/15848 [00:01<09:03, 29.10it/s]"
     ]
    },
    {
     "name": "stdout",
     "output_type": "stream",
     "text": [
      "\n",
      "Ошибка на шаге 1.41: Dimension out of range (expected to be in range of [-2, 1], but got 2)\n",
      "\n",
      "Ошибка на шаге 1.42: Dimension out of range (expected to be in range of [-2, 1], but got 2)\n"
     ]
    },
    {
     "name": "stderr",
     "output_type": "stream",
     "text": [
      "Epoch 1/100:   0%|          | 44/15848 [00:01<09:00, 29.26it/s]"
     ]
    },
    {
     "name": "stdout",
     "output_type": "stream",
     "text": [
      "\n",
      "Ошибка на шаге 1.43: Dimension out of range (expected to be in range of [-2, 1], but got 2)\n",
      "\n",
      "Ошибка на шаге 1.44: Dimension out of range (expected to be in range of [-2, 1], but got 2)\n",
      "\n",
      "Ошибка на шаге 1.45: Dimension out of range (expected to be in range of [-2, 1], but got 2)\n",
      "\n",
      "Ошибка на шаге 1.46: Dimension out of range (expected to be in range of [-2, 1], but got 2)\n",
      "\n",
      "Ошибка на шаге 1.47: Dimension out of range (expected to be in range of [-2, 1], but got 2)\n"
     ]
    },
    {
     "name": "stderr",
     "output_type": "stream",
     "text": [
      "Epoch 1/100:   0%|          | 48/15848 [00:01<08:44, 30.11it/s]"
     ]
    },
    {
     "name": "stdout",
     "output_type": "stream",
     "text": [
      "\n",
      "Ошибка на шаге 1.48: Dimension out of range (expected to be in range of [-2, 1], but got 2)\n",
      "\n",
      "Ошибка на шаге 1.49: Dimension out of range (expected to be in range of [-2, 1], but got 2)\n"
     ]
    },
    {
     "name": "stderr",
     "output_type": "stream",
     "text": [
      "Epoch 1/100:   0%|          | 52/15848 [00:01<08:33, 30.77it/s]"
     ]
    },
    {
     "name": "stdout",
     "output_type": "stream",
     "text": [
      "\n",
      "Ошибка на шаге 1.50: Dimension out of range (expected to be in range of [-2, 1], but got 2)\n",
      "\n",
      "Ошибка на шаге 1.51: Dimension out of range (expected to be in range of [-2, 1], but got 2)\n",
      "\n",
      "Ошибка на шаге 1.52: Dimension out of range (expected to be in range of [-2, 1], but got 2)\n",
      "\n",
      "Ошибка на шаге 1.53: Dimension out of range (expected to be in range of [-2, 1], but got 2)\n",
      "\n",
      "Ошибка на шаге 1.54: Dimension out of range (expected to be in range of [-2, 1], but got 2)\n"
     ]
    },
    {
     "name": "stderr",
     "output_type": "stream",
     "text": [
      "Epoch 1/100:   0%|          | 56/15848 [00:02<08:40, 30.36it/s]"
     ]
    },
    {
     "name": "stdout",
     "output_type": "stream",
     "text": [
      "\n",
      "Ошибка на шаге 1.55: Dimension out of range (expected to be in range of [-2, 1], but got 2)\n",
      "\n",
      "Ошибка на шаге 1.56: Dimension out of range (expected to be in range of [-2, 1], but got 2)\n"
     ]
    },
    {
     "name": "stderr",
     "output_type": "stream",
     "text": [
      "Epoch 1/100:   0%|          | 60/15848 [00:02<08:35, 30.65it/s]"
     ]
    },
    {
     "name": "stdout",
     "output_type": "stream",
     "text": [
      "\n",
      "Ошибка на шаге 1.57: Dimension out of range (expected to be in range of [-2, 1], but got 2)\n",
      "\n",
      "Ошибка на шаге 1.58: Dimension out of range (expected to be in range of [-2, 1], but got 2)\n",
      "\n",
      "Ошибка на шаге 1.59: Dimension out of range (expected to be in range of [-2, 1], but got 2)\n",
      "\n",
      "Ошибка на шаге 1.60: Dimension out of range (expected to be in range of [-2, 1], but got 2)\n",
      "\n",
      "Ошибка на шаге 1.61: Dimension out of range (expected to be in range of [-2, 1], but got 2)\n",
      "\n",
      "Ошибка на шаге 1.62: Dimension out of range (expected to be in range of [-2, 1], but got 2)\n",
      "\n",
      "Ошибка на шаге 1.63: Dimension out of range (expected to be in range of [-2, 1], but got 2)\n"
     ]
    },
    {
     "name": "stderr",
     "output_type": "stream",
     "text": [
      "Epoch 1/100:   0%|          | 68/15848 [00:02<08:25, 31.20it/s]"
     ]
    },
    {
     "name": "stdout",
     "output_type": "stream",
     "text": [
      "\n",
      "Ошибка на шаге 1.64: Dimension out of range (expected to be in range of [-2, 1], but got 2)\n",
      "\n",
      "Ошибка на шаге 1.65: Dimension out of range (expected to be in range of [-2, 1], but got 2)\n",
      "\n",
      "Ошибка на шаге 1.66: Dimension out of range (expected to be in range of [-2, 1], but got 2)\n",
      "\n",
      "Ошибка на шаге 1.67: Dimension out of range (expected to be in range of [-2, 1], but got 2)\n",
      "\n",
      "Ошибка на шаге 1.68: Dimension out of range (expected to be in range of [-2, 1], but got 2)\n",
      "\n",
      "Ошибка на шаге 1.69: Dimension out of range (expected to be in range of [-2, 1], but got 2)\n",
      "\n",
      "Ошибка на шаге 1.70: Dimension out of range (expected to be in range of [-2, 1], but got 2)\n"
     ]
    },
    {
     "name": "stderr",
     "output_type": "stream",
     "text": [
      "Epoch 1/100:   0%|          | 72/15848 [00:02<08:13, 31.94it/s]"
     ]
    },
    {
     "name": "stdout",
     "output_type": "stream",
     "text": [
      "\n",
      "Ошибка на шаге 1.71: Dimension out of range (expected to be in range of [-2, 1], but got 2)\n",
      "\n",
      "Ошибка на шаге 1.72: Dimension out of range (expected to be in range of [-2, 1], but got 2)\n",
      "\n",
      "Ошибка на шаге 1.73: Dimension out of range (expected to be in range of [-2, 1], but got 2)\n",
      "\n",
      "Ошибка на шаге 1.74: Dimension out of range (expected to be in range of [-2, 1], but got 2)\n",
      "\n",
      "Ошибка на шаге 1.75: Dimension out of range (expected to be in range of [-2, 1], but got 2)\n"
     ]
    },
    {
     "name": "stderr",
     "output_type": "stream",
     "text": [
      "Epoch 1/100:   0%|          | 76/15848 [00:02<08:09, 32.20it/s]"
     ]
    },
    {
     "name": "stdout",
     "output_type": "stream",
     "text": [
      "\n",
      "Ошибка на шаге 1.76: Dimension out of range (expected to be in range of [-2, 1], but got 2)\n",
      "\n",
      "Ошибка на шаге 1.77: Dimension out of range (expected to be in range of [-2, 1], but got 2)\n"
     ]
    },
    {
     "name": "stderr",
     "output_type": "stream",
     "text": [
      "Epoch 1/100:   1%|          | 80/15848 [00:02<08:49, 29.76it/s]"
     ]
    },
    {
     "name": "stdout",
     "output_type": "stream",
     "text": [
      "\n",
      "Ошибка на шаге 1.78: Dimension out of range (expected to be in range of [-2, 1], but got 2)\n",
      "\n",
      "Ошибка на шаге 1.79: Dimension out of range (expected to be in range of [-2, 1], but got 2)\n",
      "\n",
      "Ошибка на шаге 1.80: Dimension out of range (expected to be in range of [-2, 1], but got 2)\n",
      "\n",
      "Ошибка на шаге 1.81: Dimension out of range (expected to be in range of [-2, 1], but got 2)\n",
      "\n",
      "Ошибка на шаге 1.82: Dimension out of range (expected to be in range of [-2, 1], but got 2)\n",
      "\n",
      "Ошибка на шаге 1.83: Dimension out of range (expected to be in range of [-2, 1], but got 2)\n"
     ]
    },
    {
     "name": "stderr",
     "output_type": "stream",
     "text": [
      "Epoch 1/100:   1%|          | 88/15848 [00:03<08:24, 31.26it/s]"
     ]
    },
    {
     "name": "stdout",
     "output_type": "stream",
     "text": [
      "\n",
      "Ошибка на шаге 1.84: Dimension out of range (expected to be in range of [-2, 1], but got 2)\n",
      "\n",
      "Ошибка на шаге 1.85: Dimension out of range (expected to be in range of [-2, 1], but got 2)\n",
      "\n",
      "Ошибка на шаге 1.86: Dimension out of range (expected to be in range of [-2, 1], but got 2)\n",
      "\n",
      "Ошибка на шаге 1.87: Dimension out of range (expected to be in range of [-2, 1], but got 2)\n",
      "\n",
      "Ошибка на шаге 1.88: Dimension out of range (expected to be in range of [-2, 1], but got 2)\n",
      "\n",
      "Ошибка на шаге 1.89: Dimension out of range (expected to be in range of [-2, 1], but got 2)\n",
      "\n",
      "Ошибка на шаге 1.90: Dimension out of range (expected to be in range of [-2, 1], but got 2)\n"
     ]
    },
    {
     "name": "stderr",
     "output_type": "stream",
     "text": [
      "Epoch 1/100:   1%|          | 92/15848 [00:03<08:15, 31.78it/s]"
     ]
    },
    {
     "name": "stdout",
     "output_type": "stream",
     "text": [
      "\n",
      "Ошибка на шаге 1.91: Dimension out of range (expected to be in range of [-2, 1], but got 2)\n",
      "\n",
      "Ошибка на шаге 1.92: Dimension out of range (expected to be in range of [-2, 1], but got 2)\n",
      "\n",
      "Ошибка на шаге 1.93: Dimension out of range (expected to be in range of [-2, 1], but got 2)\n",
      "\n",
      "Ошибка на шаге 1.94: Dimension out of range (expected to be in range of [-2, 1], but got 2)\n",
      "\n",
      "Ошибка на шаге 1.95: Dimension out of range (expected to be in range of [-2, 1], but got 2)\n"
     ]
    },
    {
     "name": "stderr",
     "output_type": "stream",
     "text": [
      "Epoch 1/100:   1%|          | 96/15848 [00:03<08:03, 32.55it/s]"
     ]
    },
    {
     "name": "stdout",
     "output_type": "stream",
     "text": [
      "\n",
      "Ошибка на шаге 1.96: Dimension out of range (expected to be in range of [-2, 1], but got 2)\n",
      "\n",
      "Ошибка на шаге 1.97: Dimension out of range (expected to be in range of [-2, 1], but got 2)\n"
     ]
    },
    {
     "name": "stderr",
     "output_type": "stream",
     "text": [
      "Epoch 1/100:   1%|          | 100/15848 [00:03<08:06, 32.35it/s]"
     ]
    },
    {
     "name": "stdout",
     "output_type": "stream",
     "text": [
      "\n",
      "Ошибка на шаге 1.98: Dimension out of range (expected to be in range of [-2, 1], but got 2)\n",
      "\n",
      "Ошибка на шаге 1.99: Dimension out of range (expected to be in range of [-2, 1], but got 2)\n",
      "\n",
      "Ошибка на шаге 1.100: Dimension out of range (expected to be in range of [-2, 1], but got 2)\n",
      "\n",
      "Ошибка на шаге 1.101: Dimension out of range (expected to be in range of [-2, 1], but got 2)\n",
      "\n",
      "Ошибка на шаге 1.102: Dimension out of range (expected to be in range of [-2, 1], but got 2)\n"
     ]
    },
    {
     "name": "stderr",
     "output_type": "stream",
     "text": [
      "Epoch 1/100:   1%|          | 104/15848 [00:03<08:00, 32.75it/s]"
     ]
    },
    {
     "name": "stdout",
     "output_type": "stream",
     "text": [
      "\n",
      "Ошибка на шаге 1.103: Dimension out of range (expected to be in range of [-2, 1], but got 2)\n",
      "\n",
      "Ошибка на шаге 1.104: Dimension out of range (expected to be in range of [-2, 1], but got 2)\n"
     ]
    },
    {
     "name": "stderr",
     "output_type": "stream",
     "text": [
      "Epoch 1/100:   1%|          | 108/15848 [00:03<08:12, 31.93it/s]"
     ]
    },
    {
     "name": "stdout",
     "output_type": "stream",
     "text": [
      "\n",
      "Ошибка на шаге 1.105: Dimension out of range (expected to be in range of [-2, 1], but got 2)\n",
      "\n",
      "Ошибка на шаге 1.106: Dimension out of range (expected to be in range of [-2, 1], but got 2)\n",
      "\n",
      "Ошибка на шаге 1.107: Dimension out of range (expected to be in range of [-2, 1], but got 2)\n",
      "\n",
      "Ошибка на шаге 1.108: Dimension out of range (expected to be in range of [-2, 1], but got 2)\n",
      "\n",
      "Ошибка на шаге 1.109: Dimension out of range (expected to be in range of [-2, 1], but got 2)\n",
      "\n",
      "Ошибка на шаге 1.110: Dimension out of range (expected to be in range of [-2, 1], but got 2)\n",
      "\n",
      "Ошибка на шаге 1.111: Dimension out of range (expected to be in range of [-2, 1], but got 2)\n"
     ]
    },
    {
     "name": "stderr",
     "output_type": "stream",
     "text": [
      "Epoch 1/100:   1%|          | 116/15848 [00:03<08:06, 32.33it/s]"
     ]
    },
    {
     "name": "stdout",
     "output_type": "stream",
     "text": [
      "\n",
      "Ошибка на шаге 1.112: Dimension out of range (expected to be in range of [-2, 1], but got 2)\n",
      "\n",
      "Ошибка на шаге 1.113: Dimension out of range (expected to be in range of [-2, 1], but got 2)\n",
      "\n",
      "Ошибка на шаге 1.114: Dimension out of range (expected to be in range of [-2, 1], but got 2)\n",
      "\n",
      "Ошибка на шаге 1.115: Dimension out of range (expected to be in range of [-2, 1], but got 2)\n",
      "\n",
      "Ошибка на шаге 1.116: Dimension out of range (expected to be in range of [-2, 1], but got 2)\n",
      "\n",
      "Ошибка на шаге 1.117: Dimension out of range (expected to be in range of [-2, 1], but got 2)\n",
      "\n",
      "Ошибка на шаге 1.118: Dimension out of range (expected to be in range of [-2, 1], but got 2)\n"
     ]
    },
    {
     "name": "stderr",
     "output_type": "stream",
     "text": [
      "Epoch 1/100:   1%|          | 120/15848 [00:04<08:07, 32.26it/s]"
     ]
    },
    {
     "name": "stdout",
     "output_type": "stream",
     "text": [
      "\n",
      "Ошибка на шаге 1.119: Dimension out of range (expected to be in range of [-2, 1], but got 2)\n",
      "\n",
      "Ошибка на шаге 1.120: Dimension out of range (expected to be in range of [-2, 1], but got 2)\n",
      "\n",
      "Ошибка на шаге 1.121: Dimension out of range (expected to be in range of [-2, 1], but got 2)\n",
      "\n",
      "Ошибка на шаге 1.122: Dimension out of range (expected to be in range of [-2, 1], but got 2)\n",
      "\n",
      "Ошибка на шаге 1.123: Dimension out of range (expected to be in range of [-2, 1], but got 2)\n"
     ]
    },
    {
     "name": "stderr",
     "output_type": "stream",
     "text": [
      "Epoch 1/100:   1%|          | 124/15848 [00:04<07:54, 33.11it/s]"
     ]
    },
    {
     "name": "stdout",
     "output_type": "stream",
     "text": [
      "\n",
      "Ошибка на шаге 1.124: Dimension out of range (expected to be in range of [-2, 1], but got 2)\n",
      "\n",
      "Ошибка на шаге 1.125: Dimension out of range (expected to be in range of [-2, 1], but got 2)\n"
     ]
    },
    {
     "name": "stderr",
     "output_type": "stream",
     "text": [
      "Epoch 1/100:   1%|          | 128/15848 [00:04<07:55, 33.03it/s]"
     ]
    },
    {
     "name": "stdout",
     "output_type": "stream",
     "text": [
      "\n",
      "Ошибка на шаге 1.126: Dimension out of range (expected to be in range of [-2, 1], but got 2)\n",
      "\n",
      "Ошибка на шаге 1.127: Dimension out of range (expected to be in range of [-2, 1], but got 2)\n",
      "\n",
      "Ошибка на шаге 1.128: Dimension out of range (expected to be in range of [-2, 1], but got 2)\n",
      "\n",
      "Ошибка на шаге 1.129: Dimension out of range (expected to be in range of [-2, 1], but got 2)\n",
      "\n",
      "Ошибка на шаге 1.130: Dimension out of range (expected to be in range of [-2, 1], but got 2)\n"
     ]
    },
    {
     "name": "stderr",
     "output_type": "stream",
     "text": [
      "Epoch 1/100:   1%|          | 132/15848 [00:04<07:50, 33.41it/s]"
     ]
    },
    {
     "name": "stdout",
     "output_type": "stream",
     "text": [
      "\n",
      "Ошибка на шаге 1.131: Dimension out of range (expected to be in range of [-2, 1], but got 2)\n",
      "\n",
      "Ошибка на шаге 1.132: Dimension out of range (expected to be in range of [-2, 1], but got 2)\n"
     ]
    },
    {
     "name": "stderr",
     "output_type": "stream",
     "text": [
      "Epoch 1/100:   1%|          | 136/15848 [00:04<08:02, 32.57it/s]"
     ]
    },
    {
     "name": "stdout",
     "output_type": "stream",
     "text": [
      "\n",
      "Ошибка на шаге 1.133: Dimension out of range (expected to be in range of [-2, 1], but got 2)\n",
      "\n",
      "Ошибка на шаге 1.134: Dimension out of range (expected to be in range of [-2, 1], but got 2)\n",
      "\n",
      "Ошибка на шаге 1.135: Dimension out of range (expected to be in range of [-2, 1], but got 2)\n",
      "\n",
      "Ошибка на шаге 1.136: Dimension out of range (expected to be in range of [-2, 1], but got 2)\n",
      "\n",
      "Ошибка на шаге 1.137: Dimension out of range (expected to be in range of [-2, 1], but got 2)\n",
      "\n",
      "Ошибка на шаге 1.138: Dimension out of range (expected to be in range of [-2, 1], but got 2)\n"
     ]
    },
    {
     "name": "stderr",
     "output_type": "stream",
     "text": [
      "Epoch 1/100:   1%|          | 144/15848 [00:04<08:16, 31.63it/s]"
     ]
    },
    {
     "name": "stdout",
     "output_type": "stream",
     "text": [
      "\n",
      "Ошибка на шаге 1.139: Dimension out of range (expected to be in range of [-2, 1], but got 2)\n",
      "\n",
      "Ошибка на шаге 1.140: Dimension out of range (expected to be in range of [-2, 1], but got 2)\n",
      "\n",
      "Ошибка на шаге 1.141: Dimension out of range (expected to be in range of [-2, 1], but got 2)\n",
      "\n",
      "Ошибка на шаге 1.142: Dimension out of range (expected to be in range of [-2, 1], but got 2)\n",
      "\n",
      "Ошибка на шаге 1.143: Dimension out of range (expected to be in range of [-2, 1], but got 2)\n",
      "\n",
      "Ошибка на шаге 1.144: Dimension out of range (expected to be in range of [-2, 1], but got 2)\n",
      "\n",
      "Ошибка на шаге 1.145: Dimension out of range (expected to be in range of [-2, 1], but got 2)\n"
     ]
    },
    {
     "name": "stderr",
     "output_type": "stream",
     "text": [
      "Epoch 1/100:   1%|          | 148/15848 [00:04<08:10, 32.00it/s]"
     ]
    },
    {
     "name": "stdout",
     "output_type": "stream",
     "text": [
      "\n",
      "Ошибка на шаге 1.146: Dimension out of range (expected to be in range of [-2, 1], but got 2)\n",
      "\n",
      "Ошибка на шаге 1.147: Dimension out of range (expected to be in range of [-2, 1], but got 2)\n",
      "\n",
      "Ошибка на шаге 1.148: Dimension out of range (expected to be in range of [-2, 1], but got 2)\n",
      "\n",
      "Ошибка на шаге 1.149: Dimension out of range (expected to be in range of [-2, 1], but got 2)\n",
      "\n",
      "Ошибка на шаге 1.150: Dimension out of range (expected to be in range of [-2, 1], but got 2)\n",
      "\n",
      "Ошибка на шаге 1.151: Dimension out of range (expected to be in range of [-2, 1], but got 2)\n"
     ]
    },
    {
     "name": "stderr",
     "output_type": "stream",
     "text": [
      "Epoch 1/100:   1%|          | 152/15848 [00:05<07:59, 32.76it/s]"
     ]
    },
    {
     "name": "stdout",
     "output_type": "stream",
     "text": [
      "\n",
      "Ошибка на шаге 1.152: Dimension out of range (expected to be in range of [-2, 1], but got 2)\n"
     ]
    },
    {
     "name": "stderr",
     "output_type": "stream",
     "text": [
      "Epoch 1/100:   1%|          | 156/15848 [00:05<08:05, 32.32it/s]"
     ]
    },
    {
     "name": "stdout",
     "output_type": "stream",
     "text": [
      "\n",
      "Ошибка на шаге 1.153: Dimension out of range (expected to be in range of [-2, 1], but got 2)\n",
      "\n",
      "Ошибка на шаге 1.154: Dimension out of range (expected to be in range of [-2, 1], but got 2)\n",
      "\n",
      "Ошибка на шаге 1.155: Dimension out of range (expected to be in range of [-2, 1], but got 2)\n",
      "\n",
      "Ошибка на шаге 1.156: Dimension out of range (expected to be in range of [-2, 1], but got 2)\n",
      "\n",
      "Ошибка на шаге 1.157: Dimension out of range (expected to be in range of [-2, 1], but got 2)\n",
      "\n",
      "Ошибка на шаге 1.158: Dimension out of range (expected to be in range of [-2, 1], but got 2)\n",
      "\n",
      "Ошибка на шаге 1.159: Dimension out of range (expected to be in range of [-2, 1], but got 2)\n"
     ]
    },
    {
     "name": "stderr",
     "output_type": "stream",
     "text": [
      "Epoch 1/100:   1%|          | 164/15848 [00:05<07:48, 33.44it/s]"
     ]
    },
    {
     "name": "stdout",
     "output_type": "stream",
     "text": [
      "\n",
      "Ошибка на шаге 1.160: Dimension out of range (expected to be in range of [-2, 1], but got 2)\n",
      "\n",
      "Ошибка на шаге 1.161: Dimension out of range (expected to be in range of [-2, 1], but got 2)\n",
      "\n",
      "Ошибка на шаге 1.162: Dimension out of range (expected to be in range of [-2, 1], but got 2)\n",
      "\n",
      "Ошибка на шаге 1.163: Dimension out of range (expected to be in range of [-2, 1], but got 2)\n",
      "\n",
      "Ошибка на шаге 1.164: Dimension out of range (expected to be in range of [-2, 1], but got 2)\n",
      "\n",
      "Ошибка на шаге 1.165: Dimension out of range (expected to be in range of [-2, 1], but got 2)\n",
      "\n",
      "Ошибка на шаге 1.166: Dimension out of range (expected to be in range of [-2, 1], but got 2)\n"
     ]
    },
    {
     "name": "stderr",
     "output_type": "stream",
     "text": [
      "Epoch 1/100:   1%|          | 172/15848 [00:05<07:45, 33.64it/s]"
     ]
    },
    {
     "name": "stdout",
     "output_type": "stream",
     "text": [
      "\n",
      "Ошибка на шаге 1.167: Dimension out of range (expected to be in range of [-2, 1], but got 2)\n",
      "\n",
      "Ошибка на шаге 1.168: Dimension out of range (expected to be in range of [-2, 1], but got 2)\n",
      "\n",
      "Ошибка на шаге 1.169: Dimension out of range (expected to be in range of [-2, 1], but got 2)\n",
      "\n",
      "Ошибка на шаге 1.170: Dimension out of range (expected to be in range of [-2, 1], but got 2)\n",
      "\n",
      "Ошибка на шаге 1.171: Dimension out of range (expected to be in range of [-2, 1], but got 2)\n",
      "\n",
      "Ошибка на шаге 1.172: Dimension out of range (expected to be in range of [-2, 1], but got 2)\n",
      "\n",
      "Ошибка на шаге 1.173: Dimension out of range (expected to be in range of [-2, 1], but got 2)\n"
     ]
    },
    {
     "name": "stderr",
     "output_type": "stream",
     "text": [
      "Epoch 1/100:   1%|          | 176/15848 [00:05<07:50, 33.29it/s]"
     ]
    },
    {
     "name": "stdout",
     "output_type": "stream",
     "text": [
      "\n",
      "Ошибка на шаге 1.174: Dimension out of range (expected to be in range of [-2, 1], but got 2)\n",
      "\n",
      "Ошибка на шаге 1.175: Dimension out of range (expected to be in range of [-2, 1], but got 2)\n",
      "\n",
      "Ошибка на шаге 1.176: Dimension out of range (expected to be in range of [-2, 1], but got 2)\n",
      "\n",
      "Ошибка на шаге 1.177: Dimension out of range (expected to be in range of [-2, 1], but got 2)\n",
      "\n",
      "Ошибка на шаге 1.178: Dimension out of range (expected to be in range of [-2, 1], but got 2)\n",
      "\n",
      "Ошибка на шаге 1.179: Dimension out of range (expected to be in range of [-2, 1], but got 2)\n"
     ]
    },
    {
     "name": "stderr",
     "output_type": "stream",
     "text": [
      "Epoch 1/100:   1%|          | 180/15848 [00:05<07:49, 33.39it/s]"
     ]
    },
    {
     "name": "stdout",
     "output_type": "stream",
     "text": [
      "\n",
      "Ошибка на шаге 1.180: Dimension out of range (expected to be in range of [-2, 1], but got 2)\n"
     ]
    },
    {
     "name": "stderr",
     "output_type": "stream",
     "text": [
      "Epoch 1/100:   1%|          | 184/15848 [00:05<07:48, 33.41it/s]"
     ]
    },
    {
     "name": "stdout",
     "output_type": "stream",
     "text": [
      "\n",
      "Ошибка на шаге 1.181: Dimension out of range (expected to be in range of [-2, 1], but got 2)\n",
      "\n",
      "Ошибка на шаге 1.182: Dimension out of range (expected to be in range of [-2, 1], but got 2)\n",
      "\n",
      "Ошибка на шаге 1.183: Dimension out of range (expected to be in range of [-2, 1], but got 2)\n",
      "\n",
      "Ошибка на шаге 1.184: Dimension out of range (expected to be in range of [-2, 1], but got 2)\n",
      "\n",
      "Ошибка на шаге 1.185: Dimension out of range (expected to be in range of [-2, 1], but got 2)\n",
      "\n",
      "Ошибка на шаге 1.186: Dimension out of range (expected to be in range of [-2, 1], but got 2)\n",
      "\n",
      "Ошибка на шаге 1.187: Dimension out of range (expected to be in range of [-2, 1], but got 2)\n"
     ]
    },
    {
     "name": "stderr",
     "output_type": "stream",
     "text": [
      "Epoch 1/100:   1%|          | 192/15848 [00:06<08:05, 32.27it/s]"
     ]
    },
    {
     "name": "stdout",
     "output_type": "stream",
     "text": [
      "\n",
      "Ошибка на шаге 1.188: Dimension out of range (expected to be in range of [-2, 1], but got 2)\n",
      "\n",
      "Ошибка на шаге 1.189: Dimension out of range (expected to be in range of [-2, 1], but got 2)\n",
      "\n",
      "Ошибка на шаге 1.190: Dimension out of range (expected to be in range of [-2, 1], but got 2)\n",
      "\n",
      "Ошибка на шаге 1.191: Dimension out of range (expected to be in range of [-2, 1], but got 2)\n",
      "\n",
      "Ошибка на шаге 1.192: Dimension out of range (expected to be in range of [-2, 1], but got 2)\n",
      "\n",
      "Ошибка на шаге 1.193: Dimension out of range (expected to be in range of [-2, 1], but got 2)\n",
      "\n",
      "Ошибка на шаге 1.194: Dimension out of range (expected to be in range of [-2, 1], but got 2)\n"
     ]
    },
    {
     "name": "stderr",
     "output_type": "stream",
     "text": [
      "Epoch 1/100:   1%|▏         | 200/15848 [00:06<07:43, 33.78it/s]"
     ]
    },
    {
     "name": "stdout",
     "output_type": "stream",
     "text": [
      "\n",
      "Ошибка на шаге 1.195: Dimension out of range (expected to be in range of [-2, 1], but got 2)\n",
      "\n",
      "Ошибка на шаге 1.196: Dimension out of range (expected to be in range of [-2, 1], but got 2)\n",
      "\n",
      "Ошибка на шаге 1.197: Dimension out of range (expected to be in range of [-2, 1], but got 2)\n",
      "\n",
      "Ошибка на шаге 1.198: Dimension out of range (expected to be in range of [-2, 1], but got 2)\n",
      "\n",
      "Ошибка на шаге 1.199: Dimension out of range (expected to be in range of [-2, 1], but got 2)\n",
      "\n",
      "Ошибка на шаге 1.200: Dimension out of range (expected to be in range of [-2, 1], but got 2)\n",
      "\n",
      "Ошибка на шаге 1.201: Dimension out of range (expected to be in range of [-2, 1], but got 2)\n"
     ]
    },
    {
     "name": "stderr",
     "output_type": "stream",
     "text": [
      "Epoch 1/100:   1%|▏         | 204/15848 [00:06<07:43, 33.72it/s]"
     ]
    },
    {
     "name": "stdout",
     "output_type": "stream",
     "text": [
      "\n",
      "Ошибка на шаге 1.202: Dimension out of range (expected to be in range of [-2, 1], but got 2)\n",
      "\n",
      "Ошибка на шаге 1.203: Dimension out of range (expected to be in range of [-2, 1], but got 2)\n",
      "\n",
      "Ошибка на шаге 1.204: Dimension out of range (expected to be in range of [-2, 1], but got 2)\n",
      "\n",
      "Ошибка на шаге 1.205: Dimension out of range (expected to be in range of [-2, 1], but got 2)\n",
      "\n",
      "Ошибка на шаге 1.206: Dimension out of range (expected to be in range of [-2, 1], but got 2)\n",
      "\n",
      "Ошибка на шаге 1.207: Dimension out of range (expected to be in range of [-2, 1], but got 2)\n",
      "\n",
      "Ошибка на шаге 1.208: Dimension out of range (expected to be in range of [-2, 1], but got 2)\n"
     ]
    },
    {
     "name": "stderr",
     "output_type": "stream",
     "text": [
      "Epoch 1/100:   1%|▏         | 208/15848 [00:06<07:38, 34.14it/s]"
     ]
    },
    {
     "name": "stdout",
     "output_type": "stream",
     "text": [
      "\n",
      "Ошибка на шаге 1.209: Dimension out of range (expected to be in range of [-2, 1], but got 2)"
     ]
    },
    {
     "name": "stderr",
     "output_type": "stream",
     "text": [
      "Epoch 1/100:   1%|▏         | 216/15848 [00:06<07:30, 34.71it/s]"
     ]
    },
    {
     "name": "stdout",
     "output_type": "stream",
     "text": [
      "\n",
      "\n",
      "Ошибка на шаге 1.210: Dimension out of range (expected to be in range of [-2, 1], but got 2)\n",
      "\n",
      "Ошибка на шаге 1.211: Dimension out of range (expected to be in range of [-2, 1], but got 2)\n",
      "\n",
      "Ошибка на шаге 1.212: Dimension out of range (expected to be in range of [-2, 1], but got 2)\n",
      "\n",
      "Ошибка на шаге 1.213: Dimension out of range (expected to be in range of [-2, 1], but got 2)\n",
      "\n",
      "Ошибка на шаге 1.214: Dimension out of range (expected to be in range of [-2, 1], but got 2)\n",
      "\n",
      "Ошибка на шаге 1.215: Dimension out of range (expected to be in range of [-2, 1], but got 2)\n",
      "\n",
      "Ошибка на шаге 1.216: Dimension out of range (expected to be in range of [-2, 1], but got 2)\n"
     ]
    },
    {
     "name": "stderr",
     "output_type": "stream",
     "text": [
      "Epoch 1/100:   1%|▏         | 224/15848 [00:07<07:27, 34.93it/s]"
     ]
    },
    {
     "name": "stdout",
     "output_type": "stream",
     "text": [
      "\n",
      "Ошибка на шаге 1.217: Dimension out of range (expected to be in range of [-2, 1], but got 2)\n",
      "\n",
      "Ошибка на шаге 1.218: Dimension out of range (expected to be in range of [-2, 1], but got 2)\n",
      "\n",
      "Ошибка на шаге 1.219: Dimension out of range (expected to be in range of [-2, 1], but got 2)\n",
      "\n",
      "Ошибка на шаге 1.220: Dimension out of range (expected to be in range of [-2, 1], but got 2)\n",
      "\n",
      "Ошибка на шаге 1.221: Dimension out of range (expected to be in range of [-2, 1], but got 2)\n",
      "\n",
      "Ошибка на шаге 1.222: Dimension out of range (expected to be in range of [-2, 1], but got 2)\n",
      "\n",
      "Ошибка на шаге 1.223: Dimension out of range (expected to be in range of [-2, 1], but got 2)\n",
      "\n",
      "Ошибка на шаге 1.224: Dimension out of range (expected to be in range of [-2, 1], but got 2)\n"
     ]
    },
    {
     "name": "stderr",
     "output_type": "stream",
     "text": [
      "Epoch 1/100:   1%|▏         | 232/15848 [00:07<07:27, 34.93it/s]"
     ]
    },
    {
     "name": "stdout",
     "output_type": "stream",
     "text": [
      "\n",
      "Ошибка на шаге 1.225: Dimension out of range (expected to be in range of [-2, 1], but got 2)\n",
      "\n",
      "Ошибка на шаге 1.226: Dimension out of range (expected to be in range of [-2, 1], but got 2)\n",
      "\n",
      "Ошибка на шаге 1.227: Dimension out of range (expected to be in range of [-2, 1], but got 2)\n",
      "\n",
      "Ошибка на шаге 1.228: Dimension out of range (expected to be in range of [-2, 1], but got 2)\n",
      "\n",
      "Ошибка на шаге 1.229: Dimension out of range (expected to be in range of [-2, 1], but got 2)\n",
      "\n",
      "Ошибка на шаге 1.230: Dimension out of range (expected to be in range of [-2, 1], but got 2)\n",
      "\n",
      "Ошибка на шаге 1.231: Dimension out of range (expected to be in range of [-2, 1], but got 2)\n",
      "\n",
      "Ошибка на шаге 1.232: Dimension out of range (expected to be in range of [-2, 1], but got 2)\n"
     ]
    },
    {
     "name": "stderr",
     "output_type": "stream",
     "text": [
      "Epoch 1/100:   1%|▏         | 236/15848 [00:07<07:48, 33.31it/s]"
     ]
    },
    {
     "name": "stdout",
     "output_type": "stream",
     "text": [
      "\n",
      "Ошибка на шаге 1.233: Dimension out of range (expected to be in range of [-2, 1], but got 2)\n",
      "\n",
      "Ошибка на шаге 1.234: Dimension out of range (expected to be in range of [-2, 1], but got 2)\n",
      "\n",
      "Ошибка на шаге 1.235: Dimension out of range (expected to be in range of [-2, 1], but got 2)\n",
      "\n",
      "Ошибка на шаге 1.236: Dimension out of range (expected to be in range of [-2, 1], but got 2)\n",
      "\n",
      "Ошибка на шаге 1.237: Dimension out of range (expected to be in range of [-2, 1], but got 2)\n",
      "\n",
      "Ошибка на шаге 1.238: Dimension out of range (expected to be in range of [-2, 1], but got 2)\n",
      "\n",
      "Ошибка на шаге 1.239: Dimension out of range (expected to be in range of [-2, 1], but got 2)\n"
     ]
    },
    {
     "name": "stderr",
     "output_type": "stream",
     "text": [
      "Epoch 1/100:   2%|▏         | 244/15848 [00:07<07:40, 33.90it/s]"
     ]
    },
    {
     "name": "stdout",
     "output_type": "stream",
     "text": [
      "\n",
      "Ошибка на шаге 1.240: Dimension out of range (expected to be in range of [-2, 1], but got 2)\n",
      "\n",
      "Ошибка на шаге 1.241: Dimension out of range (expected to be in range of [-2, 1], but got 2)\n",
      "\n",
      "Ошибка на шаге 1.242: Dimension out of range (expected to be in range of [-2, 1], but got 2)\n",
      "\n",
      "Ошибка на шаге 1.243: Dimension out of range (expected to be in range of [-2, 1], but got 2)\n",
      "\n",
      "Ошибка на шаге 1.244: Dimension out of range (expected to be in range of [-2, 1], but got 2)\n",
      "\n",
      "Ошибка на шаге 1.245: Dimension out of range (expected to be in range of [-2, 1], but got 2)\n",
      "\n",
      "Ошибка на шаге 1.246: Dimension out of range (expected to be in range of [-2, 1], but got 2)\n",
      "\n",
      "Ошибка на шаге 1.247: Dimension out of range (expected to be in range of [-2, 1], but got 2)\n"
     ]
    },
    {
     "name": "stderr",
     "output_type": "stream",
     "text": [
      "Epoch 1/100:   2%|▏         | 252/15848 [00:07<07:27, 34.82it/s]"
     ]
    },
    {
     "name": "stdout",
     "output_type": "stream",
     "text": [
      "\n",
      "Ошибка на шаге 1.248: Dimension out of range (expected to be in range of [-2, 1], but got 2)\n",
      "\n",
      "Ошибка на шаге 1.249: Dimension out of range (expected to be in range of [-2, 1], but got 2)\n",
      "\n",
      "Ошибка на шаге 1.250: Dimension out of range (expected to be in range of [-2, 1], but got 2)\n",
      "\n",
      "Ошибка на шаге 1.251: Dimension out of range (expected to be in range of [-2, 1], but got 2)\n",
      "\n",
      "Ошибка на шаге 1.252: Dimension out of range (expected to be in range of [-2, 1], but got 2)\n",
      "\n",
      "Ошибка на шаге 1.253: Dimension out of range (expected to be in range of [-2, 1], but got 2)\n",
      "\n",
      "Ошибка на шаге 1.254: Dimension out of range (expected to be in range of [-2, 1], but got 2)\n",
      "\n",
      "Ошибка на шаге 1.255: Dimension out of range (expected to be in range of [-2, 1], but got 2)\n"
     ]
    },
    {
     "name": "stderr",
     "output_type": "stream",
     "text": [
      "Epoch 1/100:   2%|▏         | 260/15848 [00:08<07:24, 35.05it/s]"
     ]
    },
    {
     "name": "stdout",
     "output_type": "stream",
     "text": [
      "\n",
      "Ошибка на шаге 1.256: Dimension out of range (expected to be in range of [-2, 1], but got 2)\n",
      "\n",
      "Ошибка на шаге 1.257: Dimension out of range (expected to be in range of [-2, 1], but got 2)\n",
      "\n",
      "Ошибка на шаге 1.258: Dimension out of range (expected to be in range of [-2, 1], but got 2)\n",
      "\n",
      "Ошибка на шаге 1.259: Dimension out of range (expected to be in range of [-2, 1], but got 2)\n",
      "\n",
      "Ошибка на шаге 1.260: Dimension out of range (expected to be in range of [-2, 1], but got 2)\n",
      "\n",
      "Ошибка на шаге 1.261: Dimension out of range (expected to be in range of [-2, 1], but got 2)\n",
      "\n",
      "Ошибка на шаге 1.262: Dimension out of range (expected to be in range of [-2, 1], but got 2)\n",
      "\n",
      "Ошибка на шаге 1.263: Dimension out of range (expected to be in range of [-2, 1], but got 2)\n"
     ]
    },
    {
     "name": "stderr",
     "output_type": "stream",
     "text": [
      "Epoch 1/100:   2%|▏         | 268/15848 [00:08<07:33, 34.33it/s]"
     ]
    },
    {
     "name": "stdout",
     "output_type": "stream",
     "text": [
      "\n",
      "Ошибка на шаге 1.264: Dimension out of range (expected to be in range of [-2, 1], but got 2)\n",
      "\n",
      "Ошибка на шаге 1.265: Dimension out of range (expected to be in range of [-2, 1], but got 2)\n",
      "\n",
      "Ошибка на шаге 1.266: Dimension out of range (expected to be in range of [-2, 1], but got 2)\n",
      "\n",
      "Ошибка на шаге 1.267: Dimension out of range (expected to be in range of [-2, 1], but got 2)\n",
      "\n",
      "Ошибка на шаге 1.268: Dimension out of range (expected to be in range of [-2, 1], but got 2)\n",
      "\n",
      "Ошибка на шаге 1.269: Dimension out of range (expected to be in range of [-2, 1], but got 2)\n"
     ]
    },
    {
     "name": "stderr",
     "output_type": "stream",
     "text": [
      "Epoch 1/100:   2%|▏         | 276/15848 [00:08<08:03, 32.22it/s]"
     ]
    },
    {
     "name": "stdout",
     "output_type": "stream",
     "text": [
      "\n",
      "Ошибка на шаге 1.270: Dimension out of range (expected to be in range of [-2, 1], but got 2)\n",
      "\n",
      "Ошибка на шаге 1.271: Dimension out of range (expected to be in range of [-2, 1], but got 2)\n",
      "\n",
      "Ошибка на шаге 1.272: Dimension out of range (expected to be in range of [-2, 1], but got 2)\n",
      "\n",
      "Ошибка на шаге 1.273: Dimension out of range (expected to be in range of [-2, 1], but got 2)\n",
      "\n",
      "Ошибка на шаге 1.274: Dimension out of range (expected to be in range of [-2, 1], but got 2)\n",
      "\n",
      "Ошибка на шаге 1.275: Dimension out of range (expected to be in range of [-2, 1], but got 2)\n",
      "\n",
      "Ошибка на шаге 1.276: Dimension out of range (expected to be in range of [-2, 1], but got 2)\n"
     ]
    },
    {
     "name": "stderr",
     "output_type": "stream",
     "text": [
      "Epoch 1/100:   2%|▏         | 280/15848 [00:08<08:14, 31.49it/s]"
     ]
    },
    {
     "name": "stdout",
     "output_type": "stream",
     "text": [
      "\n",
      "Ошибка на шаге 1.277: Dimension out of range (expected to be in range of [-2, 1], but got 2)\n",
      "\n",
      "Ошибка на шаге 1.278: Dimension out of range (expected to be in range of [-2, 1], but got 2)\n",
      "\n",
      "Ошибка на шаге 1.279: Dimension out of range (expected to be in range of [-2, 1], but got 2)\n",
      "\n",
      "Ошибка на шаге 1.280: Dimension out of range (expected to be in range of [-2, 1], but got 2)\n",
      "\n",
      "Ошибка на шаге 1.281: Dimension out of range (expected to be in range of [-2, 1], but got 2)\n",
      "\n",
      "Ошибка на шаге 1.282: Dimension out of range (expected to be in range of [-2, 1], but got 2)\n",
      "\n",
      "Ошибка на шаге 1.283: Dimension out of range (expected to be in range of [-2, 1], but got 2)\n"
     ]
    },
    {
     "name": "stderr",
     "output_type": "stream",
     "text": [
      "Epoch 1/100:   2%|▏         | 288/15848 [00:09<08:28, 30.58it/s]"
     ]
    },
    {
     "name": "stdout",
     "output_type": "stream",
     "text": [
      "\n",
      "Ошибка на шаге 1.284: Dimension out of range (expected to be in range of [-2, 1], but got 2)\n",
      "\n",
      "Ошибка на шаге 1.285: Dimension out of range (expected to be in range of [-2, 1], but got 2)\n",
      "\n",
      "Ошибка на шаге 1.286: Dimension out of range (expected to be in range of [-2, 1], but got 2)\n",
      "\n",
      "Ошибка на шаге 1.287: Dimension out of range (expected to be in range of [-2, 1], but got 2)\n",
      "\n",
      "Ошибка на шаге 1.288: Dimension out of range (expected to be in range of [-2, 1], but got 2)\n",
      "\n",
      "Ошибка на шаге 1.289: Dimension out of range (expected to be in range of [-2, 1], but got 2)\n",
      "\n",
      "Ошибка на шаге 1.290: Dimension out of range (expected to be in range of [-2, 1], but got 2)\n"
     ]
    },
    {
     "name": "stderr",
     "output_type": "stream",
     "text": [
      "Epoch 1/100:   2%|▏         | 296/15848 [00:09<08:00, 32.39it/s]"
     ]
    },
    {
     "name": "stdout",
     "output_type": "stream",
     "text": [
      "\n",
      "Ошибка на шаге 1.291: Dimension out of range (expected to be in range of [-2, 1], but got 2)\n",
      "\n",
      "Ошибка на шаге 1.292: Dimension out of range (expected to be in range of [-2, 1], but got 2)\n",
      "\n",
      "Ошибка на шаге 1.293: Dimension out of range (expected to be in range of [-2, 1], but got 2)\n",
      "\n",
      "Ошибка на шаге 1.294: Dimension out of range (expected to be in range of [-2, 1], but got 2)\n",
      "\n",
      "Ошибка на шаге 1.295: Dimension out of range (expected to be in range of [-2, 1], but got 2)\n",
      "\n",
      "Ошибка на шаге 1.296: Dimension out of range (expected to be in range of [-2, 1], but got 2)\n",
      "\n",
      "Ошибка на шаге 1.297: Dimension out of range (expected to be in range of [-2, 1], but got 2)\n",
      "\n",
      "Ошибка на шаге 1.298: Dimension out of range (expected to be in range of [-2, 1], but got 2)\n"
     ]
    },
    {
     "name": "stderr",
     "output_type": "stream",
     "text": [
      "Epoch 1/100:   2%|▏         | 304/15848 [00:09<07:45, 33.36it/s]"
     ]
    },
    {
     "name": "stdout",
     "output_type": "stream",
     "text": [
      "\n",
      "Ошибка на шаге 1.299: Dimension out of range (expected to be in range of [-2, 1], but got 2)\n",
      "\n",
      "Ошибка на шаге 1.300: Dimension out of range (expected to be in range of [-2, 1], but got 2)\n",
      "\n",
      "Ошибка на шаге 1.301: Dimension out of range (expected to be in range of [-2, 1], but got 2)\n",
      "\n",
      "Ошибка на шаге 1.302: Dimension out of range (expected to be in range of [-2, 1], but got 2)\n",
      "\n",
      "Ошибка на шаге 1.303: Dimension out of range (expected to be in range of [-2, 1], but got 2)\n",
      "\n",
      "Ошибка на шаге 1.304: Dimension out of range (expected to be in range of [-2, 1], but got 2)\n",
      "\n",
      "Ошибка на шаге 1.305: Dimension out of range (expected to be in range of [-2, 1], but got 2)\n"
     ]
    },
    {
     "name": "stderr",
     "output_type": "stream",
     "text": [
      "Epoch 1/100:   2%|▏         | 312/15848 [00:09<07:38, 33.86it/s]"
     ]
    },
    {
     "name": "stdout",
     "output_type": "stream",
     "text": [
      "\n",
      "Ошибка на шаге 1.306: Dimension out of range (expected to be in range of [-2, 1], but got 2)\n",
      "\n",
      "Ошибка на шаге 1.307: Dimension out of range (expected to be in range of [-2, 1], but got 2)\n",
      "\n",
      "Ошибка на шаге 1.308: Dimension out of range (expected to be in range of [-2, 1], but got 2)\n",
      "\n",
      "Ошибка на шаге 1.309: Dimension out of range (expected to be in range of [-2, 1], but got 2)\n",
      "\n",
      "Ошибка на шаге 1.310: Dimension out of range (expected to be in range of [-2, 1], but got 2)\n",
      "\n",
      "Ошибка на шаге 1.311: Dimension out of range (expected to be in range of [-2, 1], but got 2)\n",
      "\n",
      "Ошибка на шаге 1.312: Dimension out of range (expected to be in range of [-2, 1], but got 2)\n"
     ]
    },
    {
     "name": "stderr",
     "output_type": "stream",
     "text": [
      "Epoch 1/100:   2%|▏         | 320/15848 [00:10<07:32, 34.33it/s]"
     ]
    },
    {
     "name": "stdout",
     "output_type": "stream",
     "text": [
      "\n",
      "Ошибка на шаге 1.313: Dimension out of range (expected to be in range of [-2, 1], but got 2)\n",
      "\n",
      "Ошибка на шаге 1.314: Dimension out of range (expected to be in range of [-2, 1], but got 2)\n",
      "\n",
      "Ошибка на шаге 1.315: Dimension out of range (expected to be in range of [-2, 1], but got 2)\n",
      "\n",
      "Ошибка на шаге 1.316: Dimension out of range (expected to be in range of [-2, 1], but got 2)\n",
      "\n",
      "Ошибка на шаге 1.317: Dimension out of range (expected to be in range of [-2, 1], but got 2)\n",
      "\n",
      "Ошибка на шаге 1.318: Dimension out of range (expected to be in range of [-2, 1], but got 2)\n",
      "\n",
      "Ошибка на шаге 1.319: Dimension out of range (expected to be in range of [-2, 1], but got 2)\n",
      "\n",
      "Ошибка на шаге 1.320: Dimension out of range (expected to be in range of [-2, 1], but got 2)\n"
     ]
    },
    {
     "name": "stderr",
     "output_type": "stream",
     "text": [
      "Epoch 1/100:   2%|▏         | 324/15848 [00:10<07:39, 33.81it/s]"
     ]
    },
    {
     "name": "stdout",
     "output_type": "stream",
     "text": [
      "\n",
      "Ошибка на шаге 1.321: Dimension out of range (expected to be in range of [-2, 1], but got 2)\n",
      "\n",
      "Ошибка на шаге 1.322: Dimension out of range (expected to be in range of [-2, 1], but got 2)\n",
      "\n",
      "Ошибка на шаге 1.323: Dimension out of range (expected to be in range of [-2, 1], but got 2)\n",
      "\n",
      "Ошибка на шаге 1.324: Dimension out of range (expected to be in range of [-2, 1], but got 2)\n",
      "\n",
      "Ошибка на шаге 1.325: Dimension out of range (expected to be in range of [-2, 1], but got 2)\n",
      "\n",
      "Ошибка на шаге 1.326: Dimension out of range (expected to be in range of [-2, 1], but got 2)\n",
      "\n",
      "Ошибка на шаге 1.327: Dimension out of range (expected to be in range of [-2, 1], but got 2)\n"
     ]
    },
    {
     "name": "stderr",
     "output_type": "stream",
     "text": [
      "Epoch 1/100:   2%|▏         | 332/15848 [00:10<07:46, 33.24it/s]"
     ]
    },
    {
     "name": "stdout",
     "output_type": "stream",
     "text": [
      "\n",
      "Ошибка на шаге 1.328: Dimension out of range (expected to be in range of [-2, 1], but got 2)\n",
      "\n",
      "Ошибка на шаге 1.329: Dimension out of range (expected to be in range of [-2, 1], but got 2)\n",
      "\n",
      "Ошибка на шаге 1.330: Dimension out of range (expected to be in range of [-2, 1], but got 2)\n",
      "\n",
      "Ошибка на шаге 1.331: Dimension out of range (expected to be in range of [-2, 1], but got 2)\n",
      "\n",
      "Ошибка на шаге 1.332: Dimension out of range (expected to be in range of [-2, 1], but got 2)\n",
      "\n",
      "Ошибка на шаге 1.333: Dimension out of range (expected to be in range of [-2, 1], but got 2)\n",
      "\n",
      "Ошибка на шаге 1.334: Dimension out of range (expected to be in range of [-2, 1], but got 2)\n"
     ]
    },
    {
     "name": "stderr",
     "output_type": "stream",
     "text": [
      "Epoch 1/100:   2%|▏         | 340/15848 [00:10<07:56, 32.56it/s]"
     ]
    },
    {
     "name": "stdout",
     "output_type": "stream",
     "text": [
      "\n",
      "Ошибка на шаге 1.335: Dimension out of range (expected to be in range of [-2, 1], but got 2)\n",
      "\n",
      "Ошибка на шаге 1.336: Dimension out of range (expected to be in range of [-2, 1], but got 2)\n",
      "\n",
      "Ошибка на шаге 1.337: Dimension out of range (expected to be in range of [-2, 1], but got 2)\n",
      "\n",
      "Ошибка на шаге 1.338: Dimension out of range (expected to be in range of [-2, 1], but got 2)\n",
      "\n",
      "Ошибка на шаге 1.339: Dimension out of range (expected to be in range of [-2, 1], but got 2)\n",
      "\n",
      "Ошибка на шаге 1.340: Dimension out of range (expected to be in range of [-2, 1], but got 2)\n",
      "\n",
      "Ошибка на шаге 1.341: Dimension out of range (expected to be in range of [-2, 1], but got 2)\n"
     ]
    },
    {
     "name": "stderr",
     "output_type": "stream",
     "text": [
      "Epoch 1/100:   2%|▏         | 348/15848 [00:10<07:52, 32.81it/s]"
     ]
    },
    {
     "name": "stdout",
     "output_type": "stream",
     "text": [
      "\n",
      "Ошибка на шаге 1.342: Dimension out of range (expected to be in range of [-2, 1], but got 2)\n",
      "\n",
      "Ошибка на шаге 1.343: Dimension out of range (expected to be in range of [-2, 1], but got 2)\n",
      "\n",
      "Ошибка на шаге 1.344: Dimension out of range (expected to be in range of [-2, 1], but got 2)\n",
      "\n",
      "Ошибка на шаге 1.345: Dimension out of range (expected to be in range of [-2, 1], but got 2)\n",
      "\n",
      "Ошибка на шаге 1.346: Dimension out of range (expected to be in range of [-2, 1], but got 2)\n",
      "\n",
      "Ошибка на шаге 1.347: Dimension out of range (expected to be in range of [-2, 1], but got 2)\n",
      "\n",
      "Ошибка на шаге 1.348: Dimension out of range (expected to be in range of [-2, 1], but got 2)\n"
     ]
    },
    {
     "name": "stderr",
     "output_type": "stream",
     "text": [
      "Epoch 1/100:   2%|▏         | 352/15848 [00:11<08:24, 30.71it/s]"
     ]
    },
    {
     "name": "stdout",
     "output_type": "stream",
     "text": [
      "\n",
      "Ошибка на шаге 1.349: Dimension out of range (expected to be in range of [-2, 1], but got 2)\n",
      "\n",
      "Ошибка на шаге 1.350: Dimension out of range (expected to be in range of [-2, 1], but got 2)\n",
      "\n",
      "Ошибка на шаге 1.351: Dimension out of range (expected to be in range of [-2, 1], but got 2)\n",
      "\n",
      "Ошибка на шаге 1.352: Dimension out of range (expected to be in range of [-2, 1], but got 2)\n",
      "\n",
      "Ошибка на шаге 1.353: Dimension out of range (expected to be in range of [-2, 1], but got 2)\n",
      "\n",
      "Ошибка на шаге 1.354: Dimension out of range (expected to be in range of [-2, 1], but got 2)\n"
     ]
    },
    {
     "name": "stderr",
     "output_type": "stream",
     "text": [
      "Epoch 1/100:   2%|▏         | 360/15848 [00:11<07:57, 32.46it/s]"
     ]
    },
    {
     "name": "stdout",
     "output_type": "stream",
     "text": [
      "\n",
      "Ошибка на шаге 1.355: Dimension out of range (expected to be in range of [-2, 1], but got 2)\n",
      "\n",
      "Ошибка на шаге 1.356: Dimension out of range (expected to be in range of [-2, 1], but got 2)\n",
      "\n",
      "Ошибка на шаге 1.357: Dimension out of range (expected to be in range of [-2, 1], but got 2)\n",
      "\n",
      "Ошибка на шаге 1.358: Dimension out of range (expected to be in range of [-2, 1], but got 2)\n",
      "\n",
      "Ошибка на шаге 1.359: Dimension out of range (expected to be in range of [-2, 1], but got 2)\n",
      "\n",
      "Ошибка на шаге 1.360: Dimension out of range (expected to be in range of [-2, 1], but got 2)\n",
      "\n",
      "Ошибка на шаге 1.361: Dimension out of range (expected to be in range of [-2, 1], but got 2)\n"
     ]
    },
    {
     "name": "stderr",
     "output_type": "stream",
     "text": [
      "Epoch 1/100:   2%|▏         | 368/15848 [00:11<07:40, 33.62it/s]"
     ]
    },
    {
     "name": "stdout",
     "output_type": "stream",
     "text": [
      "\n",
      "Ошибка на шаге 1.362: Dimension out of range (expected to be in range of [-2, 1], but got 2)\n",
      "\n",
      "Ошибка на шаге 1.363: Dimension out of range (expected to be in range of [-2, 1], but got 2)\n",
      "\n",
      "Ошибка на шаге 1.364: Dimension out of range (expected to be in range of [-2, 1], but got 2)\n",
      "\n",
      "Ошибка на шаге 1.365: Dimension out of range (expected to be in range of [-2, 1], but got 2)\n",
      "\n",
      "Ошибка на шаге 1.366: Dimension out of range (expected to be in range of [-2, 1], but got 2)\n",
      "\n",
      "Ошибка на шаге 1.367: Dimension out of range (expected to be in range of [-2, 1], but got 2)\n",
      "\n",
      "Ошибка на шаге 1.368: Dimension out of range (expected to be in range of [-2, 1], but got 2)\n"
     ]
    },
    {
     "name": "stderr",
     "output_type": "stream",
     "text": [
      "Epoch 1/100:   2%|▏         | 376/15848 [00:11<07:20, 35.13it/s]"
     ]
    },
    {
     "name": "stdout",
     "output_type": "stream",
     "text": [
      "\n",
      "Ошибка на шаге 1.369: Dimension out of range (expected to be in range of [-2, 1], but got 2)\n",
      "\n",
      "Ошибка на шаге 1.370: Dimension out of range (expected to be in range of [-2, 1], but got 2)\n",
      "\n",
      "Ошибка на шаге 1.371: Dimension out of range (expected to be in range of [-2, 1], but got 2)\n",
      "\n",
      "Ошибка на шаге 1.372: Dimension out of range (expected to be in range of [-2, 1], but got 2)\n",
      "\n",
      "Ошибка на шаге 1.373: Dimension out of range (expected to be in range of [-2, 1], but got 2)\n",
      "\n",
      "Ошибка на шаге 1.374: Dimension out of range (expected to be in range of [-2, 1], but got 2)\n",
      "\n",
      "Ошибка на шаге 1.375: Dimension out of range (expected to be in range of [-2, 1], but got 2)\n",
      "\n",
      "Ошибка на шаге 1.376: Dimension out of range (expected to be in range of [-2, 1], but got 2)\n"
     ]
    },
    {
     "name": "stderr",
     "output_type": "stream",
     "text": [
      "Epoch 1/100:   2%|▏         | 380/15848 [00:11<07:29, 34.42it/s]"
     ]
    },
    {
     "name": "stdout",
     "output_type": "stream",
     "text": [
      "\n",
      "Ошибка на шаге 1.377: Dimension out of range (expected to be in range of [-2, 1], but got 2)\n",
      "\n",
      "Ошибка на шаге 1.378: Dimension out of range (expected to be in range of [-2, 1], but got 2)\n",
      "\n",
      "Ошибка на шаге 1.379: Dimension out of range (expected to be in range of [-2, 1], but got 2)\n",
      "\n",
      "Ошибка на шаге 1.380: Dimension out of range (expected to be in range of [-2, 1], but got 2)\n",
      "\n",
      "Ошибка на шаге 1.381: Dimension out of range (expected to be in range of [-2, 1], but got 2)\n",
      "\n",
      "Ошибка на шаге 1.382: Dimension out of range (expected to be in range of [-2, 1], but got 2)\n",
      "\n",
      "Ошибка на шаге 1.383: Dimension out of range (expected to be in range of [-2, 1], but got 2)\n"
     ]
    },
    {
     "name": "stderr",
     "output_type": "stream",
     "text": [
      "Epoch 1/100:   2%|▏         | 388/15848 [00:12<07:32, 34.17it/s]"
     ]
    },
    {
     "name": "stdout",
     "output_type": "stream",
     "text": [
      "\n",
      "Ошибка на шаге 1.384: Dimension out of range (expected to be in range of [-2, 1], but got 2)\n",
      "\n",
      "Ошибка на шаге 1.385: Dimension out of range (expected to be in range of [-2, 1], but got 2)\n",
      "\n",
      "Ошибка на шаге 1.386: Dimension out of range (expected to be in range of [-2, 1], but got 2)\n",
      "\n",
      "Ошибка на шаге 1.387: Dimension out of range (expected to be in range of [-2, 1], but got 2)\n",
      "\n",
      "Ошибка на шаге 1.388: Dimension out of range (expected to be in range of [-2, 1], but got 2)\n",
      "\n",
      "Ошибка на шаге 1.389: Dimension out of range (expected to be in range of [-2, 1], but got 2)\n",
      "\n",
      "Ошибка на шаге 1.390: Dimension out of range (expected to be in range of [-2, 1], but got 2)\n"
     ]
    },
    {
     "name": "stderr",
     "output_type": "stream",
     "text": [
      "Epoch 1/100:   2%|▏         | 396/15848 [00:12<07:45, 33.17it/s]"
     ]
    },
    {
     "name": "stdout",
     "output_type": "stream",
     "text": [
      "\n",
      "Ошибка на шаге 1.391: Dimension out of range (expected to be in range of [-2, 1], but got 2)\n",
      "\n",
      "Ошибка на шаге 1.392: Dimension out of range (expected to be in range of [-2, 1], but got 2)\n",
      "\n",
      "Ошибка на шаге 1.393: Dimension out of range (expected to be in range of [-2, 1], but got 2)\n",
      "\n",
      "Ошибка на шаге 1.394: Dimension out of range (expected to be in range of [-2, 1], but got 2)\n",
      "\n",
      "Ошибка на шаге 1.395: Dimension out of range (expected to be in range of [-2, 1], but got 2)\n",
      "\n",
      "Ошибка на шаге 1.396: Dimension out of range (expected to be in range of [-2, 1], but got 2)\n",
      "\n",
      "Ошибка на шаге 1.397: Dimension out of range (expected to be in range of [-2, 1], but got 2)\n"
     ]
    },
    {
     "name": "stderr",
     "output_type": "stream",
     "text": [
      "Epoch 1/100:   3%|▎         | 404/15848 [00:12<07:42, 33.41it/s]"
     ]
    },
    {
     "name": "stdout",
     "output_type": "stream",
     "text": [
      "\n",
      "Ошибка на шаге 1.398: Dimension out of range (expected to be in range of [-2, 1], but got 2)\n",
      "\n",
      "Ошибка на шаге 1.399: Dimension out of range (expected to be in range of [-2, 1], but got 2)\n",
      "\n",
      "Ошибка на шаге 1.400: Dimension out of range (expected to be in range of [-2, 1], but got 2)\n",
      "\n",
      "Ошибка на шаге 1.401: Dimension out of range (expected to be in range of [-2, 1], but got 2)\n",
      "\n",
      "Ошибка на шаге 1.402: Dimension out of range (expected to be in range of [-2, 1], but got 2)\n",
      "\n",
      "Ошибка на шаге 1.403: Dimension out of range (expected to be in range of [-2, 1], but got 2)\n",
      "\n",
      "Ошибка на шаге 1.404: Dimension out of range (expected to be in range of [-2, 1], but got 2)\n"
     ]
    },
    {
     "name": "stderr",
     "output_type": "stream",
     "text": [
      "Epoch 1/100:   3%|▎         | 408/15848 [00:12<07:43, 33.30it/s]"
     ]
    },
    {
     "name": "stdout",
     "output_type": "stream",
     "text": [
      "\n",
      "Ошибка на шаге 1.405: Dimension out of range (expected to be in range of [-2, 1], but got 2)\n",
      "\n",
      "Ошибка на шаге 1.406: Dimension out of range (expected to be in range of [-2, 1], but got 2)\n",
      "\n",
      "Ошибка на шаге 1.407: Dimension out of range (expected to be in range of [-2, 1], but got 2)\n",
      "\n",
      "Ошибка на шаге 1.408: Dimension out of range (expected to be in range of [-2, 1], but got 2)\n",
      "\n",
      "Ошибка на шаге 1.409: Dimension out of range (expected to be in range of [-2, 1], but got 2)\n",
      "\n",
      "Ошибка на шаге 1.410: Dimension out of range (expected to be in range of [-2, 1], but got 2)\n",
      "\n",
      "Ошибка на шаге 1.411: Dimension out of range (expected to be in range of [-2, 1], but got 2)\n"
     ]
    },
    {
     "name": "stderr",
     "output_type": "stream",
     "text": [
      "Epoch 1/100:   3%|▎         | 416/15848 [00:12<07:37, 33.74it/s]"
     ]
    },
    {
     "name": "stdout",
     "output_type": "stream",
     "text": [
      "\n",
      "Ошибка на шаге 1.412: Dimension out of range (expected to be in range of [-2, 1], but got 2)\n",
      "\n",
      "Ошибка на шаге 1.413: Dimension out of range (expected to be in range of [-2, 1], but got 2)\n",
      "\n",
      "Ошибка на шаге 1.414: Dimension out of range (expected to be in range of [-2, 1], but got 2)\n",
      "\n",
      "Ошибка на шаге 1.415: Dimension out of range (expected to be in range of [-2, 1], but got 2)\n",
      "\n",
      "Ошибка на шаге 1.416: Dimension out of range (expected to be in range of [-2, 1], but got 2)\n",
      "\n",
      "Ошибка на шаге 1.417: Dimension out of range (expected to be in range of [-2, 1], but got 2)\n",
      "\n",
      "Ошибка на шаге 1.418: Dimension out of range (expected to be in range of [-2, 1], but got 2)\n"
     ]
    },
    {
     "name": "stderr",
     "output_type": "stream",
     "text": [
      "Epoch 1/100:   3%|▎         | 424/15848 [00:13<07:29, 34.30it/s]"
     ]
    },
    {
     "name": "stdout",
     "output_type": "stream",
     "text": [
      "\n",
      "Ошибка на шаге 1.419: Dimension out of range (expected to be in range of [-2, 1], but got 2)\n",
      "\n",
      "Ошибка на шаге 1.420: Dimension out of range (expected to be in range of [-2, 1], but got 2)\n",
      "\n",
      "Ошибка на шаге 1.421: Dimension out of range (expected to be in range of [-2, 1], but got 2)\n",
      "\n",
      "Ошибка на шаге 1.422: Dimension out of range (expected to be in range of [-2, 1], but got 2)\n",
      "\n",
      "Ошибка на шаге 1.423: Dimension out of range (expected to be in range of [-2, 1], but got 2)\n",
      "\n",
      "Ошибка на шаге 1.424: Dimension out of range (expected to be in range of [-2, 1], but got 2)\n",
      "\n",
      "Ошибка на шаге 1.425: Dimension out of range (expected to be in range of [-2, 1], but got 2)\n"
     ]
    },
    {
     "name": "stderr",
     "output_type": "stream",
     "text": [
      "Epoch 1/100:   3%|▎         | 427/15848 [00:13<07:59, 32.18it/s]\n"
     ]
    },
    {
     "name": "stdout",
     "output_type": "stream",
     "text": [
      "\n",
      "Ошибка на шаге 1.426: Dimension out of range (expected to be in range of [-2, 1], but got 2)\n",
      "\n",
      "Ошибка на шаге 1.427: Dimension out of range (expected to be in range of [-2, 1], but got 2)\n",
      "Error loading sample 168367: Error tokenizing data. C error: Calling read(nbytes) on source failed. Try engine='python'.\n",
      "Chunk file: data/train/LHX/chunk_504.csv\n"
     ]
    },
    {
     "ename": "ParserError",
     "evalue": "Error tokenizing data. C error: Calling read(nbytes) on source failed. Try engine='python'.",
     "output_type": "error",
     "traceback": [
      "\u001b[31m---------------------------------------------------------------------------\u001b[39m",
      "\u001b[31mParserError\u001b[39m                               Traceback (most recent call last)",
      "\u001b[36mCell\u001b[39m\u001b[36m \u001b[39m\u001b[32mIn[1]\u001b[39m\u001b[32m, line 228\u001b[39m\n\u001b[32m    224\u001b[39m     \u001b[38;5;28mprint\u001b[39m(\u001b[33m\"\u001b[39m\u001b[33mОбучение TradingFeatureExtractor завершено.\u001b[39m\u001b[33m\"\u001b[39m)\n\u001b[32m    227\u001b[39m \u001b[38;5;28;01mif\u001b[39;00m \u001b[34m__name__\u001b[39m == \u001b[33m\"\u001b[39m\u001b[33m__main__\u001b[39m\u001b[33m\"\u001b[39m:\n\u001b[32m--> \u001b[39m\u001b[32m228\u001b[39m     \u001b[43mtrain_feature_extractor\u001b[49m\u001b[43m(\u001b[49m\u001b[43m)\u001b[49m\n",
      "\u001b[36mCell\u001b[39m\u001b[36m \u001b[39m\u001b[32mIn[1]\u001b[39m\u001b[32m, line 122\u001b[39m, in \u001b[36mtrain_feature_extractor\u001b[39m\u001b[34m(data_path, batch_size, num_epochs, learning_rate, save_steps, model_save_path, tensorboard_log_dir, device)\u001b[39m\n\u001b[32m    119\u001b[39m epoch_loss = \u001b[32m0.0\u001b[39m\n\u001b[32m    120\u001b[39m progress_bar = tqdm(train_loader, desc=\u001b[33mf\u001b[39m\u001b[33m'\u001b[39m\u001b[33mEpoch \u001b[39m\u001b[38;5;132;01m{\u001b[39;00mepoch+\u001b[32m1\u001b[39m\u001b[38;5;132;01m}\u001b[39;00m\u001b[33m/\u001b[39m\u001b[38;5;132;01m{\u001b[39;00mnum_epochs\u001b[38;5;132;01m}\u001b[39;00m\u001b[33m'\u001b[39m, leave=\u001b[38;5;28;01mTrue\u001b[39;00m)\n\u001b[32m--> \u001b[39m\u001b[32m122\u001b[39m \u001b[43m\u001b[49m\u001b[38;5;28;43;01mfor\u001b[39;49;00m\u001b[43m \u001b[49m\u001b[43mstep\u001b[49m\u001b[43m,\u001b[49m\u001b[43m \u001b[49m\u001b[43mbatch\u001b[49m\u001b[43m \u001b[49m\u001b[38;5;129;43;01min\u001b[39;49;00m\u001b[43m \u001b[49m\u001b[38;5;28;43menumerate\u001b[39;49m\u001b[43m(\u001b[49m\u001b[43mprogress_bar\u001b[49m\u001b[43m)\u001b[49m\u001b[43m:\u001b[49m\n\u001b[32m    123\u001b[39m \u001b[43m    \u001b[49m\u001b[38;5;28;43;01mtry\u001b[39;49;00m\u001b[43m:\u001b[49m\n\u001b[32m    124\u001b[39m \u001b[43m        \u001b[49m\u001b[38;5;66;43;03m# 1. Получаем данные\u001b[39;49;00m\n\u001b[32m    125\u001b[39m \u001b[43m        \u001b[49m\u001b[43mx\u001b[49m\u001b[43m \u001b[49m\u001b[43m=\u001b[49m\u001b[43m \u001b[49m\u001b[43mbatch\u001b[49m\u001b[43m[\u001b[49m\u001b[33;43m'\u001b[39;49m\u001b[33;43mhistory\u001b[39;49m\u001b[33;43m'\u001b[39;49m\u001b[43m]\u001b[49m\u001b[43m.\u001b[49m\u001b[43mto\u001b[49m\u001b[43m(\u001b[49m\u001b[43mdevice\u001b[49m\u001b[43m)\u001b[49m\u001b[43m \u001b[49m\u001b[38;5;66;43;03m# [B, 256, 5]\u001b[39;49;00m\n",
      "\u001b[36mFile \u001b[39m\u001b[32m~/dev/Trading/.venv/lib/python3.11/site-packages/tqdm/std.py:1181\u001b[39m, in \u001b[36mtqdm.__iter__\u001b[39m\u001b[34m(self)\u001b[39m\n\u001b[32m   1178\u001b[39m time = \u001b[38;5;28mself\u001b[39m._time\n\u001b[32m   1180\u001b[39m \u001b[38;5;28;01mtry\u001b[39;00m:\n\u001b[32m-> \u001b[39m\u001b[32m1181\u001b[39m \u001b[43m    \u001b[49m\u001b[38;5;28;43;01mfor\u001b[39;49;00m\u001b[43m \u001b[49m\u001b[43mobj\u001b[49m\u001b[43m \u001b[49m\u001b[38;5;129;43;01min\u001b[39;49;00m\u001b[43m \u001b[49m\u001b[43miterable\u001b[49m\u001b[43m:\u001b[49m\n\u001b[32m   1182\u001b[39m \u001b[43m        \u001b[49m\u001b[38;5;28;43;01myield\u001b[39;49;00m\u001b[43m \u001b[49m\u001b[43mobj\u001b[49m\n\u001b[32m   1183\u001b[39m \u001b[43m        \u001b[49m\u001b[38;5;66;43;03m# Update and possibly print the progressbar.\u001b[39;49;00m\n\u001b[32m   1184\u001b[39m \u001b[43m        \u001b[49m\u001b[38;5;66;43;03m# Note: does not call self.update(1) for speed optimisation.\u001b[39;49;00m\n",
      "\u001b[36mFile \u001b[39m\u001b[32m~/dev/Trading/.venv/lib/python3.11/site-packages/torch/utils/data/dataloader.py:734\u001b[39m, in \u001b[36m_BaseDataLoaderIter.__next__\u001b[39m\u001b[34m(self)\u001b[39m\n\u001b[32m    731\u001b[39m \u001b[38;5;28;01mif\u001b[39;00m \u001b[38;5;28mself\u001b[39m._sampler_iter \u001b[38;5;129;01mis\u001b[39;00m \u001b[38;5;28;01mNone\u001b[39;00m:\n\u001b[32m    732\u001b[39m     \u001b[38;5;66;03m# TODO(https://github.com/pytorch/pytorch/issues/76750)\u001b[39;00m\n\u001b[32m    733\u001b[39m     \u001b[38;5;28mself\u001b[39m._reset()  \u001b[38;5;66;03m# type: ignore[call-arg]\u001b[39;00m\n\u001b[32m--> \u001b[39m\u001b[32m734\u001b[39m data = \u001b[38;5;28;43mself\u001b[39;49m\u001b[43m.\u001b[49m\u001b[43m_next_data\u001b[49m\u001b[43m(\u001b[49m\u001b[43m)\u001b[49m\n\u001b[32m    735\u001b[39m \u001b[38;5;28mself\u001b[39m._num_yielded += \u001b[32m1\u001b[39m\n\u001b[32m    736\u001b[39m \u001b[38;5;28;01mif\u001b[39;00m (\n\u001b[32m    737\u001b[39m     \u001b[38;5;28mself\u001b[39m._dataset_kind == _DatasetKind.Iterable\n\u001b[32m    738\u001b[39m     \u001b[38;5;129;01mand\u001b[39;00m \u001b[38;5;28mself\u001b[39m._IterableDataset_len_called \u001b[38;5;129;01mis\u001b[39;00m \u001b[38;5;129;01mnot\u001b[39;00m \u001b[38;5;28;01mNone\u001b[39;00m\n\u001b[32m    739\u001b[39m     \u001b[38;5;129;01mand\u001b[39;00m \u001b[38;5;28mself\u001b[39m._num_yielded > \u001b[38;5;28mself\u001b[39m._IterableDataset_len_called\n\u001b[32m    740\u001b[39m ):\n",
      "\u001b[36mFile \u001b[39m\u001b[32m~/dev/Trading/.venv/lib/python3.11/site-packages/torch/utils/data/dataloader.py:790\u001b[39m, in \u001b[36m_SingleProcessDataLoaderIter._next_data\u001b[39m\u001b[34m(self)\u001b[39m\n\u001b[32m    788\u001b[39m \u001b[38;5;28;01mdef\u001b[39;00m\u001b[38;5;250m \u001b[39m\u001b[34m_next_data\u001b[39m(\u001b[38;5;28mself\u001b[39m):\n\u001b[32m    789\u001b[39m     index = \u001b[38;5;28mself\u001b[39m._next_index()  \u001b[38;5;66;03m# may raise StopIteration\u001b[39;00m\n\u001b[32m--> \u001b[39m\u001b[32m790\u001b[39m     data = \u001b[38;5;28;43mself\u001b[39;49m\u001b[43m.\u001b[49m\u001b[43m_dataset_fetcher\u001b[49m\u001b[43m.\u001b[49m\u001b[43mfetch\u001b[49m\u001b[43m(\u001b[49m\u001b[43mindex\u001b[49m\u001b[43m)\u001b[49m  \u001b[38;5;66;03m# may raise StopIteration\u001b[39;00m\n\u001b[32m    791\u001b[39m     \u001b[38;5;28;01mif\u001b[39;00m \u001b[38;5;28mself\u001b[39m._pin_memory:\n\u001b[32m    792\u001b[39m         data = _utils.pin_memory.pin_memory(data, \u001b[38;5;28mself\u001b[39m._pin_memory_device)\n",
      "\u001b[36mFile \u001b[39m\u001b[32m~/dev/Trading/.venv/lib/python3.11/site-packages/torch/utils/data/_utils/fetch.py:52\u001b[39m, in \u001b[36m_MapDatasetFetcher.fetch\u001b[39m\u001b[34m(self, possibly_batched_index)\u001b[39m\n\u001b[32m     50\u001b[39m         data = \u001b[38;5;28mself\u001b[39m.dataset.__getitems__(possibly_batched_index)\n\u001b[32m     51\u001b[39m     \u001b[38;5;28;01melse\u001b[39;00m:\n\u001b[32m---> \u001b[39m\u001b[32m52\u001b[39m         data = \u001b[43m[\u001b[49m\u001b[38;5;28;43mself\u001b[39;49m\u001b[43m.\u001b[49m\u001b[43mdataset\u001b[49m\u001b[43m[\u001b[49m\u001b[43midx\u001b[49m\u001b[43m]\u001b[49m\u001b[43m \u001b[49m\u001b[38;5;28;43;01mfor\u001b[39;49;00m\u001b[43m \u001b[49m\u001b[43midx\u001b[49m\u001b[43m \u001b[49m\u001b[38;5;129;43;01min\u001b[39;49;00m\u001b[43m \u001b[49m\u001b[43mpossibly_batched_index\u001b[49m\u001b[43m]\u001b[49m\n\u001b[32m     53\u001b[39m \u001b[38;5;28;01melse\u001b[39;00m:\n\u001b[32m     54\u001b[39m     data = \u001b[38;5;28mself\u001b[39m.dataset[possibly_batched_index]\n",
      "\u001b[36mFile \u001b[39m\u001b[32m~/dev/Trading/.venv/lib/python3.11/site-packages/torch/utils/data/_utils/fetch.py:52\u001b[39m, in \u001b[36m<listcomp>\u001b[39m\u001b[34m(.0)\u001b[39m\n\u001b[32m     50\u001b[39m         data = \u001b[38;5;28mself\u001b[39m.dataset.__getitems__(possibly_batched_index)\n\u001b[32m     51\u001b[39m     \u001b[38;5;28;01melse\u001b[39;00m:\n\u001b[32m---> \u001b[39m\u001b[32m52\u001b[39m         data = [\u001b[38;5;28;43mself\u001b[39;49m\u001b[43m.\u001b[49m\u001b[43mdataset\u001b[49m\u001b[43m[\u001b[49m\u001b[43midx\u001b[49m\u001b[43m]\u001b[49m \u001b[38;5;28;01mfor\u001b[39;00m idx \u001b[38;5;129;01min\u001b[39;00m possibly_batched_index]\n\u001b[32m     53\u001b[39m \u001b[38;5;28;01melse\u001b[39;00m:\n\u001b[32m     54\u001b[39m     data = \u001b[38;5;28mself\u001b[39m.dataset[possibly_batched_index]\n",
      "\u001b[36mFile \u001b[39m\u001b[32m~/dev/Trading/utils/dataset.py:143\u001b[39m, in \u001b[36mTradingDataset.__getitem__\u001b[39m\u001b[34m(self, idx)\u001b[39m\n\u001b[32m    141\u001b[39m \u001b[38;5;28mprint\u001b[39m(\u001b[33mf\u001b[39m\u001b[33m\"\u001b[39m\u001b[33mChunk file: \u001b[39m\u001b[38;5;132;01m{\u001b[39;00msample_info[\u001b[33m'\u001b[39m\u001b[33mchunk_file\u001b[39m\u001b[33m'\u001b[39m]\u001b[38;5;132;01m}\u001b[39;00m\u001b[33m\"\u001b[39m)\n\u001b[32m    142\u001b[39m \u001b[38;5;66;03m# Возвращаем None или raise исключение\u001b[39;00m\n\u001b[32m--> \u001b[39m\u001b[32m143\u001b[39m \u001b[38;5;28;01mraise\u001b[39;00m e\n",
      "\u001b[36mFile \u001b[39m\u001b[32m~/dev/Trading/utils/dataset.py:102\u001b[39m, in \u001b[36mTradingDataset.__getitem__\u001b[39m\u001b[34m(self, idx)\u001b[39m\n\u001b[32m     97\u001b[39m sample_info = \u001b[38;5;28mself\u001b[39m.samples[idx]\n\u001b[32m     99\u001b[39m \u001b[38;5;28;01mtry\u001b[39;00m:\n\u001b[32m    100\u001b[39m     \u001b[38;5;66;03m# Загружаем чанк данных\u001b[39;00m\n\u001b[32m    101\u001b[39m     \u001b[38;5;66;03m# Ожидаем CSV с 5 столбцами: Open, High, Low, Close, Volume\u001b[39;00m\n\u001b[32m--> \u001b[39m\u001b[32m102\u001b[39m     chunk_df = \u001b[43mpd\u001b[49m\u001b[43m.\u001b[49m\u001b[43mread_csv\u001b[49m\u001b[43m(\u001b[49m\u001b[43msample_info\u001b[49m\u001b[43m[\u001b[49m\u001b[33;43m'\u001b[39;49m\u001b[33;43mchunk_file\u001b[39;49m\u001b[33;43m'\u001b[39;49m\u001b[43m]\u001b[49m\u001b[43m,\u001b[49m\u001b[43m \u001b[49m\u001b[43mheader\u001b[49m\u001b[43m=\u001b[49m\u001b[38;5;28;43;01mNone\u001b[39;49;00m\u001b[43m)\u001b[49m\n\u001b[32m    103\u001b[39m     \u001b[38;5;28;01mif\u001b[39;00m chunk_df.empty \u001b[38;5;129;01mor\u001b[39;00m chunk_df.shape[\u001b[32m1\u001b[39m] != \u001b[32m5\u001b[39m:\n\u001b[32m    104\u001b[39m         \u001b[38;5;28;01mraise\u001b[39;00m \u001b[38;5;167;01mValueError\u001b[39;00m(\u001b[33mf\u001b[39m\u001b[33m\"\u001b[39m\u001b[33mChunk file format error: \u001b[39m\u001b[38;5;132;01m{\u001b[39;00msample_info[\u001b[33m'\u001b[39m\u001b[33mchunk_file\u001b[39m\u001b[33m'\u001b[39m]\u001b[38;5;132;01m}\u001b[39;00m\u001b[33m. \u001b[39m\u001b[33m\"\u001b[39m\n\u001b[32m    105\u001b[39m                          \u001b[33mf\u001b[39m\u001b[33m\"\u001b[39m\u001b[33mExpected 5 columns, got \u001b[39m\u001b[38;5;132;01m{\u001b[39;00mchunk_df.shape[\u001b[32m1\u001b[39m]\u001b[38;5;250m \u001b[39m\u001b[38;5;28;01mif\u001b[39;00m\u001b[38;5;250m \u001b[39m\u001b[38;5;129;01mnot\u001b[39;00m\u001b[38;5;250m \u001b[39mchunk_df.empty\u001b[38;5;250m \u001b[39m\u001b[38;5;28;01melse\u001b[39;00m\u001b[38;5;250m \u001b[39m\u001b[32m0\u001b[39m\u001b[38;5;132;01m}\u001b[39;00m\u001b[33m\"\u001b[39m)\n",
      "\u001b[36mFile \u001b[39m\u001b[32m~/dev/Trading/.venv/lib/python3.11/site-packages/pandas/io/parsers/readers.py:1026\u001b[39m, in \u001b[36mread_csv\u001b[39m\u001b[34m(filepath_or_buffer, sep, delimiter, header, names, index_col, usecols, dtype, engine, converters, true_values, false_values, skipinitialspace, skiprows, skipfooter, nrows, na_values, keep_default_na, na_filter, verbose, skip_blank_lines, parse_dates, infer_datetime_format, keep_date_col, date_parser, date_format, dayfirst, cache_dates, iterator, chunksize, compression, thousands, decimal, lineterminator, quotechar, quoting, doublequote, escapechar, comment, encoding, encoding_errors, dialect, on_bad_lines, delim_whitespace, low_memory, memory_map, float_precision, storage_options, dtype_backend)\u001b[39m\n\u001b[32m   1013\u001b[39m kwds_defaults = _refine_defaults_read(\n\u001b[32m   1014\u001b[39m     dialect,\n\u001b[32m   1015\u001b[39m     delimiter,\n\u001b[32m   (...)\u001b[39m\u001b[32m   1022\u001b[39m     dtype_backend=dtype_backend,\n\u001b[32m   1023\u001b[39m )\n\u001b[32m   1024\u001b[39m kwds.update(kwds_defaults)\n\u001b[32m-> \u001b[39m\u001b[32m1026\u001b[39m \u001b[38;5;28;01mreturn\u001b[39;00m \u001b[43m_read\u001b[49m\u001b[43m(\u001b[49m\u001b[43mfilepath_or_buffer\u001b[49m\u001b[43m,\u001b[49m\u001b[43m \u001b[49m\u001b[43mkwds\u001b[49m\u001b[43m)\u001b[49m\n",
      "\u001b[36mFile \u001b[39m\u001b[32m~/dev/Trading/.venv/lib/python3.11/site-packages/pandas/io/parsers/readers.py:620\u001b[39m, in \u001b[36m_read\u001b[39m\u001b[34m(filepath_or_buffer, kwds)\u001b[39m\n\u001b[32m    617\u001b[39m _validate_names(kwds.get(\u001b[33m\"\u001b[39m\u001b[33mnames\u001b[39m\u001b[33m\"\u001b[39m, \u001b[38;5;28;01mNone\u001b[39;00m))\n\u001b[32m    619\u001b[39m \u001b[38;5;66;03m# Create the parser.\u001b[39;00m\n\u001b[32m--> \u001b[39m\u001b[32m620\u001b[39m parser = \u001b[43mTextFileReader\u001b[49m\u001b[43m(\u001b[49m\u001b[43mfilepath_or_buffer\u001b[49m\u001b[43m,\u001b[49m\u001b[43m \u001b[49m\u001b[43m*\u001b[49m\u001b[43m*\u001b[49m\u001b[43mkwds\u001b[49m\u001b[43m)\u001b[49m\n\u001b[32m    622\u001b[39m \u001b[38;5;28;01mif\u001b[39;00m chunksize \u001b[38;5;129;01mor\u001b[39;00m iterator:\n\u001b[32m    623\u001b[39m     \u001b[38;5;28;01mreturn\u001b[39;00m parser\n",
      "\u001b[36mFile \u001b[39m\u001b[32m~/dev/Trading/.venv/lib/python3.11/site-packages/pandas/io/parsers/readers.py:1620\u001b[39m, in \u001b[36mTextFileReader.__init__\u001b[39m\u001b[34m(self, f, engine, **kwds)\u001b[39m\n\u001b[32m   1617\u001b[39m     \u001b[38;5;28mself\u001b[39m.options[\u001b[33m\"\u001b[39m\u001b[33mhas_index_names\u001b[39m\u001b[33m\"\u001b[39m] = kwds[\u001b[33m\"\u001b[39m\u001b[33mhas_index_names\u001b[39m\u001b[33m\"\u001b[39m]\n\u001b[32m   1619\u001b[39m \u001b[38;5;28mself\u001b[39m.handles: IOHandles | \u001b[38;5;28;01mNone\u001b[39;00m = \u001b[38;5;28;01mNone\u001b[39;00m\n\u001b[32m-> \u001b[39m\u001b[32m1620\u001b[39m \u001b[38;5;28mself\u001b[39m._engine = \u001b[38;5;28;43mself\u001b[39;49m\u001b[43m.\u001b[49m\u001b[43m_make_engine\u001b[49m\u001b[43m(\u001b[49m\u001b[43mf\u001b[49m\u001b[43m,\u001b[49m\u001b[43m \u001b[49m\u001b[38;5;28;43mself\u001b[39;49m\u001b[43m.\u001b[49m\u001b[43mengine\u001b[49m\u001b[43m)\u001b[49m\n",
      "\u001b[36mFile \u001b[39m\u001b[32m~/dev/Trading/.venv/lib/python3.11/site-packages/pandas/io/parsers/readers.py:1898\u001b[39m, in \u001b[36mTextFileReader._make_engine\u001b[39m\u001b[34m(self, f, engine)\u001b[39m\n\u001b[32m   1895\u001b[39m     \u001b[38;5;28;01mraise\u001b[39;00m \u001b[38;5;167;01mValueError\u001b[39;00m(msg)\n\u001b[32m   1897\u001b[39m \u001b[38;5;28;01mtry\u001b[39;00m:\n\u001b[32m-> \u001b[39m\u001b[32m1898\u001b[39m     \u001b[38;5;28;01mreturn\u001b[39;00m \u001b[43mmapping\u001b[49m\u001b[43m[\u001b[49m\u001b[43mengine\u001b[49m\u001b[43m]\u001b[49m\u001b[43m(\u001b[49m\u001b[43mf\u001b[49m\u001b[43m,\u001b[49m\u001b[43m \u001b[49m\u001b[43m*\u001b[49m\u001b[43m*\u001b[49m\u001b[38;5;28;43mself\u001b[39;49m\u001b[43m.\u001b[49m\u001b[43moptions\u001b[49m\u001b[43m)\u001b[49m\n\u001b[32m   1899\u001b[39m \u001b[38;5;28;01mexcept\u001b[39;00m \u001b[38;5;167;01mException\u001b[39;00m:\n\u001b[32m   1900\u001b[39m     \u001b[38;5;28;01mif\u001b[39;00m \u001b[38;5;28mself\u001b[39m.handles \u001b[38;5;129;01mis\u001b[39;00m \u001b[38;5;129;01mnot\u001b[39;00m \u001b[38;5;28;01mNone\u001b[39;00m:\n",
      "\u001b[36mFile \u001b[39m\u001b[32m~/dev/Trading/.venv/lib/python3.11/site-packages/pandas/io/parsers/c_parser_wrapper.py:93\u001b[39m, in \u001b[36mCParserWrapper.__init__\u001b[39m\u001b[34m(self, src, **kwds)\u001b[39m\n\u001b[32m     90\u001b[39m \u001b[38;5;28;01mif\u001b[39;00m kwds[\u001b[33m\"\u001b[39m\u001b[33mdtype_backend\u001b[39m\u001b[33m\"\u001b[39m] == \u001b[33m\"\u001b[39m\u001b[33mpyarrow\u001b[39m\u001b[33m\"\u001b[39m:\n\u001b[32m     91\u001b[39m     \u001b[38;5;66;03m# Fail here loudly instead of in cython after reading\u001b[39;00m\n\u001b[32m     92\u001b[39m     import_optional_dependency(\u001b[33m\"\u001b[39m\u001b[33mpyarrow\u001b[39m\u001b[33m\"\u001b[39m)\n\u001b[32m---> \u001b[39m\u001b[32m93\u001b[39m \u001b[38;5;28mself\u001b[39m._reader = \u001b[43mparsers\u001b[49m\u001b[43m.\u001b[49m\u001b[43mTextReader\u001b[49m\u001b[43m(\u001b[49m\u001b[43msrc\u001b[49m\u001b[43m,\u001b[49m\u001b[43m \u001b[49m\u001b[43m*\u001b[49m\u001b[43m*\u001b[49m\u001b[43mkwds\u001b[49m\u001b[43m)\u001b[49m\n\u001b[32m     95\u001b[39m \u001b[38;5;28mself\u001b[39m.unnamed_cols = \u001b[38;5;28mself\u001b[39m._reader.unnamed_cols\n\u001b[32m     97\u001b[39m \u001b[38;5;66;03m# error: Cannot determine type of 'names'\u001b[39;00m\n",
      "\u001b[36mFile \u001b[39m\u001b[32mpandas/_libs/parsers.pyx:574\u001b[39m, in \u001b[36mpandas._libs.parsers.TextReader.__cinit__\u001b[39m\u001b[34m()\u001b[39m\n",
      "\u001b[36mFile \u001b[39m\u001b[32mpandas/_libs/parsers.pyx:782\u001b[39m, in \u001b[36mpandas._libs.parsers.TextReader._get_header\u001b[39m\u001b[34m()\u001b[39m\n",
      "\u001b[36mFile \u001b[39m\u001b[32mpandas/_libs/parsers.pyx:874\u001b[39m, in \u001b[36mpandas._libs.parsers.TextReader._tokenize_rows\u001b[39m\u001b[34m()\u001b[39m\n",
      "\u001b[36mFile \u001b[39m\u001b[32mpandas/_libs/parsers.pyx:891\u001b[39m, in \u001b[36mpandas._libs.parsers.TextReader._check_tokenize_status\u001b[39m\u001b[34m()\u001b[39m\n",
      "\u001b[36mFile \u001b[39m\u001b[32mpandas/_libs/parsers.pyx:2061\u001b[39m, in \u001b[36mpandas._libs.parsers.raise_parser_error\u001b[39m\u001b[34m()\u001b[39m\n",
      "\u001b[31mParserError\u001b[39m: Error tokenizing data. C error: Calling read(nbytes) on source failed. Try engine='python'."
     ]
    }
   ],
   "source": [
    "import os\n",
    "import torch\n",
    "import torch.nn.functional as F\n",
    "from torch.utils.data import DataLoader\n",
    "from safetensors.torch import save_model\n",
    "from tqdm import tqdm\n",
    "\n",
    "from models.feature_extractor import TradingFeatureExtractor\n",
    "from utils.dataset import TradingDataset\n",
    "from utils.normalizer import TradingNormalizer\n",
    "\n",
    "# Для логирования (опционально)\n",
    "try:\n",
    "    from torch.utils.tensorboard import SummaryWriter\n",
    "    TENSORBOARD_AVAILABLE = True\n",
    "except ImportError:\n",
    "    print(\"TensorBoard не найден. Логирование метрик отключено.\")\n",
    "    TENSORBOARD_AVAILABLE = False\n",
    "    SummaryWriter = None\n",
    "\n",
    "\n",
    "\n",
    "def collate_fn(batch):\n",
    "    \"\"\"\n",
    "    Функция для сборки батча из TradingDataset.\n",
    "    Извлекает только исторические данные, так как они используются как вход и таргет.\n",
    "    \"\"\"\n",
    "    histories = [item['history'] for item in batch]\n",
    "    # targets = [item['target'] for item in batch] # Не нужны для автоэнкодера\n",
    "    tickers = [item['ticker'] for item in batch]\n",
    "\n",
    "    # Объединяем истории в один тензор\n",
    "    batch_histories = torch.cat(histories, dim=0) # [B, 256, 5]\n",
    "\n",
    "    return {\n",
    "        'history': batch_histories,\n",
    "        'ticker': tickers\n",
    "    }\n",
    "\n",
    "\n",
    "\n",
    "def train_feature_extractor(\n",
    "    data_path='data/',\n",
    "    batch_size=32,\n",
    "    num_epochs=100,\n",
    "    learning_rate=1e-4,\n",
    "    save_steps=1000,\n",
    "    model_save_path='pretrained-extractor',\n",
    "    tensorboard_log_dir='runs/feature_extractor',\n",
    "    device='mps',\n",
    "):\n",
    "    \"\"\"\n",
    "    Основная функция для обучения TradingFeatureExtractor.\n",
    "    \"\"\"\n",
    "    # Определяем устройство\n",
    "    if device == \"cuda\" and torch.cuda.is_available():\n",
    "        device = torch.device(\"cuda\")\n",
    "    elif device == \"mps\" and torch.backends.mps.is_available() and torch.backends.mps.is_built():\n",
    "        device = torch.device(\"mps\")\n",
    "    else:\n",
    "        device = torch.device(\"cpu\")\n",
    "    print(f\"Используемое устройство: {device}\")\n",
    "\n",
    "\n",
    "    # --- Создание датасета и даталоадера ---\n",
    "    print(\"Загрузка обучающего датасета...\")\n",
    "    normalizer = TradingNormalizer()\n",
    "\n",
    "    train_dataset = TradingDataset(\n",
    "        data_path=data_path, \n",
    "        mode='train',\n",
    "        history_len=256, \n",
    "        target_len=32,\n",
    "        normalizer=normalizer,\n",
    "    )\n",
    "\n",
    "    train_loader = DataLoader(\n",
    "        train_dataset,\n",
    "        batch_size=batch_size,\n",
    "        shuffle=True,\n",
    "        collate_fn=collate_fn,\n",
    "        num_workers=0,\n",
    "    )\n",
    "\n",
    "\n",
    "    # --- Инициализация модели ---\n",
    "    print(\"Инициализация модели TradingFeatureExtractor...\")\n",
    "    model = TradingFeatureExtractor(\n",
    "        input_size=5, \n",
    "        feature_size=256\n",
    "    )\n",
    "    model.to(device)\n",
    "    print(f\"Модель загружена на {device}\")\n",
    "\n",
    "\n",
    "    # --- Инициализация оптимизатора и функции потерь ---\n",
    "    optimizer = torch.optim.AdamW(model.parameters(), lr=learning_rate, weight_decay=1e-4)\n",
    "    # MSE loss - стандартный выбор для автоэнкодеров\n",
    "    criterion = torch.nn.MSELoss() \n",
    "\n",
    "\n",
    "    # --- Инициализация TensorBoard (если доступно) ---\n",
    "    writer = None\n",
    "    if TENSORBOARD_AVAILABLE and tensorboard_log_dir:\n",
    "        import time\n",
    "        timestamp = str(int(time.time()))\n",
    "        run_name = f\"run_{timestamp}\"\n",
    "        full_log_dir = os.path.join(tensorboard_log_dir, run_name)\n",
    "        writer = SummaryWriter(log_dir=full_log_dir)\n",
    "        print(f\"TensorBoard логгер инициализирован. Логи будут в {full_log_dir}\")\n",
    "\n",
    "\n",
    "    # --- Цикл обучения ---\n",
    "    print(\"Начало обучения...\")\n",
    "    model.train()\n",
    "    global_step = 0\n",
    "\n",
    "    for epoch in range(num_epochs):\n",
    "        epoch_loss = 0.0\n",
    "        progress_bar = tqdm(train_loader, desc=f'Epoch {epoch+1}/{num_epochs}', leave=True)\n",
    "\n",
    "        for step, batch in enumerate(progress_bar):\n",
    "            try:\n",
    "                # 1. Получаем данные\n",
    "                x = batch['history'].to(device) # [B, 256, 5]\n",
    "                # В автоэнкодере таргет - это сам вход\n",
    "                target_x = x.clone() \n",
    "\n",
    "                # 2. Прямой проход\n",
    "                reconstructed_x = model(x) # [B, 256, 5]\n",
    "\n",
    "                # 3. Вычисление потерь\n",
    "                # Потери вычисляются между реконструкцией и оригиналом\n",
    "                loss = criterion(reconstructed_x, target_x)\n",
    "\n",
    "                # 4. Обратный проход и оптимизация\n",
    "                optimizer.zero_grad()\n",
    "                loss.backward()\n",
    "                # Опционально: добавьте градиентный клиппинг, если наблюдаются проблемы с exploding gradients\n",
    "                # torch.nn.utils.clip_grad_norm_(model.parameters(), max_norm=1.0)\n",
    "                optimizer.step()\n",
    "\n",
    "                # 5. Логирование\n",
    "                epoch_loss += loss.item()\n",
    "                global_step += 1\n",
    "\n",
    "                # Обновляем прогресс-бар\n",
    "                progress_bar.set_postfix({'loss': f'{loss.item():.6f}'})\n",
    "\n",
    "                # Логируем в TensorBoard\n",
    "                if writer is not None:\n",
    "                    writer.add_scalar(\"Loss/batch\", loss.item(), global_step)\n",
    "                    # Можно также логировать градиенты, веса и т.д.\n",
    "\n",
    "            except Exception as e:\n",
    "                print(f\"\\nОшибка на шаге {epoch+1}.{step+1}: {e}\")\n",
    "                # Пропускаем батч в случае ошибки\n",
    "                optimizer.zero_grad()\n",
    "                continue\n",
    "\n",
    "            if global_step > 0 and global_step % save_steps == 0:\n",
    "                os.makedirs(model_save_path, exist_ok=True)\n",
    "                model_weights_path = os.path.join(model_save_path, \"trading_feature_extractor.safetensors\")\n",
    "                model_config_path = os.path.join(model_save_path, \"config.json\") \n",
    "                try:\n",
    "                    # Сохраняем веса модели с помощью safetensors\n",
    "                    save_model(model, model_weights_path)\n",
    "                    print(f\"Веса модели сохранены в {model_weights_path} (формат safetensors)\")\n",
    "                    \n",
    "                    # Опционально: сохраняем конфигурацию в отдельный JSON файл\n",
    "                    import json\n",
    "                    config = {\n",
    "                        'input_size': model.input_size,\n",
    "                        'feature_size': model.feature_size,\n",
    "                    }\n",
    "                    with open(model_config_path, 'w') as f:\n",
    "                        json.dump(config, f, indent=2)\n",
    "                    print(f\"Конфигурация модели сохранена в {model_config_path}\")\n",
    "                    \n",
    "                except Exception as e:\n",
    "                    print(f\"Ошибка при сохранении модели: {e}\")\n",
    "\n",
    "        # --- Конец эпохи ---\n",
    "        avg_epoch_loss = epoch_loss / len(train_loader)\n",
    "        print(f\"Средний лосс на эпохе {epoch+1}: {avg_epoch_loss:.6f}\")\n",
    "\n",
    "        # Логируем средний лосс эпохи\n",
    "        if writer is not None:\n",
    "            writer.add_scalar(\"Loss/epoch\", avg_epoch_loss, epoch + 1)\n",
    "\n",
    "    # --- Завершение обучения ---\n",
    "    if writer is not None:\n",
    "        writer.close()\n",
    "        print(f\"TensorBoard логирование завершено.\")\n",
    "\n",
    "    # --- Сохранение модели ---\n",
    "    # ========== ИЗМЕНЕНО ==========\n",
    "    os.makedirs(model_save_path, exist_ok=True)\n",
    "    model_weights_path = os.path.join(model_save_path, \"trading_feature_extractor.safetensors\")\n",
    "    model_config_path = os.path.join(model_save_path, \"config.json\") # Опционально: сохраняем конфиг\n",
    "    \n",
    "    try:\n",
    "        # Сохраняем веса модели с помощью safetensors\n",
    "        save_model(model, model_weights_path)\n",
    "        print(f\"Веса модели сохранены в {model_weights_path} (формат safetensors)\")\n",
    "        \n",
    "        # Опционально: сохраняем конфигурацию в отдельный JSON файл\n",
    "        import json\n",
    "        config = {\n",
    "            'input_size': model.input_size,\n",
    "            'feature_size': model.feature_size,\n",
    "            # Можно добавить информацию о конфигурации энкодера/декодера, если она не фиксирована\n",
    "            'num_epochs': num_epochs,\n",
    "            'final_loss': avg_epoch_loss,\n",
    "        }\n",
    "        with open(model_config_path, 'w') as f:\n",
    "            json.dump(config, f, indent=2)\n",
    "        print(f\"Конфигурация модели сохранена в {model_config_path}\")\n",
    "        \n",
    "    except Exception as e:\n",
    "        print(f\"Ошибка при сохранении модели: {e}\")\n",
    "    # =============================\n",
    "\n",
    "    print(\"Обучение TradingFeatureExtractor завершено.\")\n",
    "\n",
    "\n",
    "if __name__ == \"__main__\":\n",
    "    train_feature_extractor()"
   ]
  },
  {
   "cell_type": "code",
   "execution_count": null,
   "id": "91647aa4",
   "metadata": {},
   "outputs": [],
   "source": []
  }
 ],
 "metadata": {
  "kernelspec": {
   "display_name": ".venv",
   "language": "python",
   "name": "python3"
  },
  "language_info": {
   "codemirror_mode": {
    "name": "ipython",
    "version": 3
   },
   "file_extension": ".py",
   "mimetype": "text/x-python",
   "name": "python",
   "nbconvert_exporter": "python",
   "pygments_lexer": "ipython3",
   "version": "3.11.2"
  }
 },
 "nbformat": 4,
 "nbformat_minor": 5
}
