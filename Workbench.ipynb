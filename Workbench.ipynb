{
 "cells": [
  {
   "cell_type": "markdown",
   "id": "f9d973f8",
   "metadata": {},
   "source": [
    "### Парсим данные через yfinance"
   ]
  },
  {
   "cell_type": "code",
   "execution_count": 1,
   "id": "b6591472",
   "metadata": {},
   "outputs": [],
   "source": [
    "# from utils.parser import parse_single_ticker\n",
    "\n",
    "# parse_single_ticker(\n",
    "#     ticker=\"MSFT\",\n",
    "#     path_to_save='data/',\n",
    "#     timeframe='1d',\n",
    "#     start_date='2020-01-01',\n",
    "#     target_len=32,\n",
    "#     history_len=256,\n",
    "#     split_coef=0.1,\n",
    "# )"
   ]
  },
  {
   "cell_type": "code",
   "execution_count": null,
   "id": "bcc4e7cd",
   "metadata": {},
   "outputs": [],
   "source": [
    "# from utils.parser import parse_snp500\n",
    "\n",
    "# parse_snp500(\n",
    "#     path_to_save='data/',\n",
    "#     timeframe='1d',\n",
    "#     start_date='2020-01-01',\n",
    "#     target_len=32,\n",
    "#     history_len=256,\n",
    "#     split_coef=0.1,\n",
    "# )"
   ]
  },
  {
   "cell_type": "markdown",
   "id": "c4a8e4d0",
   "metadata": {},
   "source": [
    "### Получаем датасет"
   ]
  },
  {
   "cell_type": "code",
   "execution_count": 5,
   "id": "aeec0ff2",
   "metadata": {},
   "outputs": [
    {
     "name": "stdout",
     "output_type": "stream",
     "text": [
      "Found 507130 samples for train mode\n"
     ]
    }
   ],
   "source": [
    "from utils.dataset import TradingDataset, TradingNormalizer\n",
    "\n",
    "normalizer = TradingNormalizer(method='log_returns')\n",
    "\n",
    "dataset = TradingDataset(\n",
    "    data_path='data/',\n",
    "    mode='train',\n",
    "    history_len=256,\n",
    "    target_len=32,\n",
    "    normalizer=normalizer,\n",
    ")"
   ]
  },
  {
   "cell_type": "code",
   "execution_count": 1,
   "id": "45c42c4e",
   "metadata": {},
   "outputs": [
    {
     "ename": "NameError",
     "evalue": "name 'dataset' is not defined",
     "output_type": "error",
     "traceback": [
      "\u001b[31m---------------------------------------------------------------------------\u001b[39m",
      "\u001b[31mNameError\u001b[39m                                 Traceback (most recent call last)",
      "\u001b[36mCell\u001b[39m\u001b[36m \u001b[39m\u001b[32mIn[1]\u001b[39m\u001b[32m, line 5\u001b[39m\n\u001b[32m      1\u001b[39m \u001b[38;5;28;01mimport\u001b[39;00m\u001b[38;5;250m \u001b[39m\u001b[34;01mtorch\u001b[39;00m\n\u001b[32m      2\u001b[39m \u001b[38;5;28;01mfrom\u001b[39;00m\u001b[38;5;250m \u001b[39m\u001b[34;01mutils\u001b[39;00m\u001b[34;01m.\u001b[39;00m\u001b[34;01mvisualization\u001b[39;00m\u001b[38;5;250m \u001b[39m\u001b[38;5;28;01mimport\u001b[39;00m plot_dataset_sample, plot_denormalized_sample\n\u001b[32m----> \u001b[39m\u001b[32m5\u001b[39m idx = torch.randint(\u001b[32m0\u001b[39m, \u001b[38;5;28mlen\u001b[39m(\u001b[43mdataset\u001b[49m), (\u001b[32m1\u001b[39m,)).item()\n\u001b[32m      6\u001b[39m \u001b[38;5;66;03m# idx = 0\u001b[39;00m\n\u001b[32m      7\u001b[39m sample = dataset[idx]\n",
      "\u001b[31mNameError\u001b[39m: name 'dataset' is not defined"
     ]
    }
   ],
   "source": [
    "import torch\n",
    "from utils.visualization import plot_dataset_sample, plot_denormalized_sample\n",
    "\n",
    "\n",
    "idx = torch.randint(0, len(dataset), (1,)).item()\n",
    "# idx = 0\n",
    "sample = dataset[idx]\n",
    "print(f\"History shape: {sample['history'].shape}\")\n",
    "print(f\"Target shape: {sample['target'].shape}\")\n",
    "print(f\"Ticker: {sample['ticker']}\")\n",
    "print(f\"Stats: {sample['stats']}\")\n",
    "\n",
    "\n",
    "plot_dataset_sample(sample)\n",
    "plot_denormalized_sample(sample)"
   ]
  },
  {
   "cell_type": "code",
   "execution_count": null,
   "id": "bbd16796",
   "metadata": {},
   "outputs": [],
   "source": []
  },
  {
   "cell_type": "code",
   "execution_count": null,
   "id": "3aca26c5",
   "metadata": {},
   "outputs": [],
   "source": []
  },
  {
   "cell_type": "code",
   "execution_count": 3,
   "id": "c5c624f6",
   "metadata": {},
   "outputs": [],
   "source": [
    "# from utils.dataset import TradingDataset\n",
    "\n",
    "# dataset = TradingDataset(data_path='data/', mode='train')"
   ]
  },
  {
   "cell_type": "code",
   "execution_count": 4,
   "id": "56cd6da4",
   "metadata": {},
   "outputs": [],
   "source": [
    "# import torch\n",
    "# from utils.visualization import plot_dataset_sample\n",
    "\n",
    "# sample = dataset[torch.randint(0, len(dataset), (1,)).item()]\n",
    "\n",
    "# print(\"History shape:\", sample['history'].shape)   # torch.Size([1, 256, 5])\n",
    "# print(\"Target shape:\", sample['target'].shape)     # torch.Size([1, 32, 1])\n",
    "# print(\"Ticker:\", sample['ticker'])\n",
    "\n",
    "# plot_dataset_sample(sample)"
   ]
  },
  {
   "cell_type": "code",
   "execution_count": null,
   "id": "b208562b",
   "metadata": {},
   "outputs": [],
   "source": []
  },
  {
   "cell_type": "code",
   "execution_count": null,
   "id": "f00aea3e",
   "metadata": {},
   "outputs": [],
   "source": []
  },
  {
   "cell_type": "code",
   "execution_count": null,
   "id": "b92f3858",
   "metadata": {},
   "outputs": [],
   "source": []
  },
  {
   "cell_type": "code",
   "execution_count": null,
   "id": "5c8a89ce",
   "metadata": {},
   "outputs": [],
   "source": []
  },
  {
   "cell_type": "code",
   "execution_count": null,
   "id": "8340f183",
   "metadata": {},
   "outputs": [],
   "source": []
  }
 ],
 "metadata": {
  "kernelspec": {
   "display_name": ".venv",
   "language": "python",
   "name": "python3"
  },
  "language_info": {
   "codemirror_mode": {
    "name": "ipython",
    "version": 3
   },
   "file_extension": ".py",
   "mimetype": "text/x-python",
   "name": "python",
   "nbconvert_exporter": "python",
   "pygments_lexer": "ipython3",
   "version": "3.11.2"
  }
 },
 "nbformat": 4,
 "nbformat_minor": 5
}
